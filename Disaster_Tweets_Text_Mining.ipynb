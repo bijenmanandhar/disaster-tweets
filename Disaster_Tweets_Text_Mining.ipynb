{
  "nbformat": 4,
  "nbformat_minor": 0,
  "metadata": {
    "colab": {
      "name": "Disaster Tweets Text Mining.ipynb",
      "provenance": [],
      "collapsed_sections": []
    },
    "kernelspec": {
      "name": "python3",
      "display_name": "Python 3"
    },
    "language_info": {
      "name": "python"
    },
    "widgets": {
      "application/vnd.jupyter.widget-state+json": {
        "8a27d53ab3ec49ce91663ad207ad0330": {
          "model_module": "@jupyter-widgets/controls",
          "model_name": "HBoxModel",
          "model_module_version": "1.5.0",
          "state": {
            "_view_name": "HBoxView",
            "_dom_classes": [],
            "_model_name": "HBoxModel",
            "_view_module": "@jupyter-widgets/controls",
            "_model_module_version": "1.5.0",
            "_view_count": null,
            "_view_module_version": "1.5.0",
            "box_style": "",
            "layout": "IPY_MODEL_f4a1ca007e91427ba4b4302e18a16cd3",
            "_model_module": "@jupyter-widgets/controls",
            "children": [
              "IPY_MODEL_44f12625a5864344a66f203439504744",
              "IPY_MODEL_15cf30f192f9486cb351f478422b7e74",
              "IPY_MODEL_3389d26d256b471e8eccb6ffcaff80fe"
            ]
          }
        },
        "f4a1ca007e91427ba4b4302e18a16cd3": {
          "model_module": "@jupyter-widgets/base",
          "model_name": "LayoutModel",
          "model_module_version": "1.2.0",
          "state": {
            "_view_name": "LayoutView",
            "grid_template_rows": null,
            "right": null,
            "justify_content": null,
            "_view_module": "@jupyter-widgets/base",
            "overflow": null,
            "_model_module_version": "1.2.0",
            "_view_count": null,
            "flex_flow": null,
            "width": null,
            "min_width": null,
            "border": null,
            "align_items": null,
            "bottom": null,
            "_model_module": "@jupyter-widgets/base",
            "top": null,
            "grid_column": null,
            "overflow_y": null,
            "overflow_x": null,
            "grid_auto_flow": null,
            "grid_area": null,
            "grid_template_columns": null,
            "flex": null,
            "_model_name": "LayoutModel",
            "justify_items": null,
            "grid_row": null,
            "max_height": null,
            "align_content": null,
            "visibility": null,
            "align_self": null,
            "height": null,
            "min_height": null,
            "padding": null,
            "grid_auto_rows": null,
            "grid_gap": null,
            "max_width": null,
            "order": null,
            "_view_module_version": "1.2.0",
            "grid_template_areas": null,
            "object_position": null,
            "object_fit": null,
            "grid_auto_columns": null,
            "margin": null,
            "display": null,
            "left": null
          }
        },
        "44f12625a5864344a66f203439504744": {
          "model_module": "@jupyter-widgets/controls",
          "model_name": "HTMLModel",
          "model_module_version": "1.5.0",
          "state": {
            "_view_name": "HTMLView",
            "style": "IPY_MODEL_ea94bbd669f04a348e086cbc8cf97246",
            "_dom_classes": [],
            "description": "",
            "_model_name": "HTMLModel",
            "placeholder": "​",
            "_view_module": "@jupyter-widgets/controls",
            "_model_module_version": "1.5.0",
            "value": "Downloading: 100%",
            "_view_count": null,
            "_view_module_version": "1.5.0",
            "description_tooltip": null,
            "_model_module": "@jupyter-widgets/controls",
            "layout": "IPY_MODEL_59a787b344524f14a066cecd9c34a1d0"
          }
        },
        "15cf30f192f9486cb351f478422b7e74": {
          "model_module": "@jupyter-widgets/controls",
          "model_name": "FloatProgressModel",
          "model_module_version": "1.5.0",
          "state": {
            "_view_name": "ProgressView",
            "style": "IPY_MODEL_ce91aa7c57dd49abbf2e46b9961f0e5b",
            "_dom_classes": [],
            "description": "",
            "_model_name": "FloatProgressModel",
            "bar_style": "success",
            "max": 666,
            "_view_module": "@jupyter-widgets/controls",
            "_model_module_version": "1.5.0",
            "value": 666,
            "_view_count": null,
            "_view_module_version": "1.5.0",
            "orientation": "horizontal",
            "min": 0,
            "description_tooltip": null,
            "_model_module": "@jupyter-widgets/controls",
            "layout": "IPY_MODEL_e8c24d1690434337a5ff5e1d4e7b70a3"
          }
        },
        "3389d26d256b471e8eccb6ffcaff80fe": {
          "model_module": "@jupyter-widgets/controls",
          "model_name": "HTMLModel",
          "model_module_version": "1.5.0",
          "state": {
            "_view_name": "HTMLView",
            "style": "IPY_MODEL_07322933a7d0429c99e1ecc68946f694",
            "_dom_classes": [],
            "description": "",
            "_model_name": "HTMLModel",
            "placeholder": "​",
            "_view_module": "@jupyter-widgets/controls",
            "_model_module_version": "1.5.0",
            "value": " 666/666 [00:00&lt;00:00, 5.07kB/s]",
            "_view_count": null,
            "_view_module_version": "1.5.0",
            "description_tooltip": null,
            "_model_module": "@jupyter-widgets/controls",
            "layout": "IPY_MODEL_ad98fa8169704b20b3735323c0d24996"
          }
        },
        "ea94bbd669f04a348e086cbc8cf97246": {
          "model_module": "@jupyter-widgets/controls",
          "model_name": "DescriptionStyleModel",
          "model_module_version": "1.5.0",
          "state": {
            "_view_name": "StyleView",
            "_model_name": "DescriptionStyleModel",
            "description_width": "",
            "_view_module": "@jupyter-widgets/base",
            "_model_module_version": "1.5.0",
            "_view_count": null,
            "_view_module_version": "1.2.0",
            "_model_module": "@jupyter-widgets/controls"
          }
        },
        "59a787b344524f14a066cecd9c34a1d0": {
          "model_module": "@jupyter-widgets/base",
          "model_name": "LayoutModel",
          "model_module_version": "1.2.0",
          "state": {
            "_view_name": "LayoutView",
            "grid_template_rows": null,
            "right": null,
            "justify_content": null,
            "_view_module": "@jupyter-widgets/base",
            "overflow": null,
            "_model_module_version": "1.2.0",
            "_view_count": null,
            "flex_flow": null,
            "width": null,
            "min_width": null,
            "border": null,
            "align_items": null,
            "bottom": null,
            "_model_module": "@jupyter-widgets/base",
            "top": null,
            "grid_column": null,
            "overflow_y": null,
            "overflow_x": null,
            "grid_auto_flow": null,
            "grid_area": null,
            "grid_template_columns": null,
            "flex": null,
            "_model_name": "LayoutModel",
            "justify_items": null,
            "grid_row": null,
            "max_height": null,
            "align_content": null,
            "visibility": null,
            "align_self": null,
            "height": null,
            "min_height": null,
            "padding": null,
            "grid_auto_rows": null,
            "grid_gap": null,
            "max_width": null,
            "order": null,
            "_view_module_version": "1.2.0",
            "grid_template_areas": null,
            "object_position": null,
            "object_fit": null,
            "grid_auto_columns": null,
            "margin": null,
            "display": null,
            "left": null
          }
        },
        "ce91aa7c57dd49abbf2e46b9961f0e5b": {
          "model_module": "@jupyter-widgets/controls",
          "model_name": "ProgressStyleModel",
          "model_module_version": "1.5.0",
          "state": {
            "_view_name": "StyleView",
            "_model_name": "ProgressStyleModel",
            "description_width": "",
            "_view_module": "@jupyter-widgets/base",
            "_model_module_version": "1.5.0",
            "_view_count": null,
            "_view_module_version": "1.2.0",
            "bar_color": null,
            "_model_module": "@jupyter-widgets/controls"
          }
        },
        "e8c24d1690434337a5ff5e1d4e7b70a3": {
          "model_module": "@jupyter-widgets/base",
          "model_name": "LayoutModel",
          "model_module_version": "1.2.0",
          "state": {
            "_view_name": "LayoutView",
            "grid_template_rows": null,
            "right": null,
            "justify_content": null,
            "_view_module": "@jupyter-widgets/base",
            "overflow": null,
            "_model_module_version": "1.2.0",
            "_view_count": null,
            "flex_flow": null,
            "width": null,
            "min_width": null,
            "border": null,
            "align_items": null,
            "bottom": null,
            "_model_module": "@jupyter-widgets/base",
            "top": null,
            "grid_column": null,
            "overflow_y": null,
            "overflow_x": null,
            "grid_auto_flow": null,
            "grid_area": null,
            "grid_template_columns": null,
            "flex": null,
            "_model_name": "LayoutModel",
            "justify_items": null,
            "grid_row": null,
            "max_height": null,
            "align_content": null,
            "visibility": null,
            "align_self": null,
            "height": null,
            "min_height": null,
            "padding": null,
            "grid_auto_rows": null,
            "grid_gap": null,
            "max_width": null,
            "order": null,
            "_view_module_version": "1.2.0",
            "grid_template_areas": null,
            "object_position": null,
            "object_fit": null,
            "grid_auto_columns": null,
            "margin": null,
            "display": null,
            "left": null
          }
        },
        "07322933a7d0429c99e1ecc68946f694": {
          "model_module": "@jupyter-widgets/controls",
          "model_name": "DescriptionStyleModel",
          "model_module_version": "1.5.0",
          "state": {
            "_view_name": "StyleView",
            "_model_name": "DescriptionStyleModel",
            "description_width": "",
            "_view_module": "@jupyter-widgets/base",
            "_model_module_version": "1.5.0",
            "_view_count": null,
            "_view_module_version": "1.2.0",
            "_model_module": "@jupyter-widgets/controls"
          }
        },
        "ad98fa8169704b20b3735323c0d24996": {
          "model_module": "@jupyter-widgets/base",
          "model_name": "LayoutModel",
          "model_module_version": "1.2.0",
          "state": {
            "_view_name": "LayoutView",
            "grid_template_rows": null,
            "right": null,
            "justify_content": null,
            "_view_module": "@jupyter-widgets/base",
            "overflow": null,
            "_model_module_version": "1.2.0",
            "_view_count": null,
            "flex_flow": null,
            "width": null,
            "min_width": null,
            "border": null,
            "align_items": null,
            "bottom": null,
            "_model_module": "@jupyter-widgets/base",
            "top": null,
            "grid_column": null,
            "overflow_y": null,
            "overflow_x": null,
            "grid_auto_flow": null,
            "grid_area": null,
            "grid_template_columns": null,
            "flex": null,
            "_model_name": "LayoutModel",
            "justify_items": null,
            "grid_row": null,
            "max_height": null,
            "align_content": null,
            "visibility": null,
            "align_self": null,
            "height": null,
            "min_height": null,
            "padding": null,
            "grid_auto_rows": null,
            "grid_gap": null,
            "max_width": null,
            "order": null,
            "_view_module_version": "1.2.0",
            "grid_template_areas": null,
            "object_position": null,
            "object_fit": null,
            "grid_auto_columns": null,
            "margin": null,
            "display": null,
            "left": null
          }
        },
        "4cf2ffd053d649f8848665ca67b12c1f": {
          "model_module": "@jupyter-widgets/controls",
          "model_name": "HBoxModel",
          "model_module_version": "1.5.0",
          "state": {
            "_view_name": "HBoxView",
            "_dom_classes": [],
            "_model_name": "HBoxModel",
            "_view_module": "@jupyter-widgets/controls",
            "_model_module_version": "1.5.0",
            "_view_count": null,
            "_view_module_version": "1.5.0",
            "box_style": "",
            "layout": "IPY_MODEL_c22010be9e27497083b7c6f0f733fdfb",
            "_model_module": "@jupyter-widgets/controls",
            "children": [
              "IPY_MODEL_8f9fcda5b8e04399bbe222a2aded32bb",
              "IPY_MODEL_379f223393274983a5be1d346a770321",
              "IPY_MODEL_2ffb3a2906b843d3851f3c5a5f00ea9f"
            ]
          }
        },
        "c22010be9e27497083b7c6f0f733fdfb": {
          "model_module": "@jupyter-widgets/base",
          "model_name": "LayoutModel",
          "model_module_version": "1.2.0",
          "state": {
            "_view_name": "LayoutView",
            "grid_template_rows": null,
            "right": null,
            "justify_content": null,
            "_view_module": "@jupyter-widgets/base",
            "overflow": null,
            "_model_module_version": "1.2.0",
            "_view_count": null,
            "flex_flow": null,
            "width": null,
            "min_width": null,
            "border": null,
            "align_items": null,
            "bottom": null,
            "_model_module": "@jupyter-widgets/base",
            "top": null,
            "grid_column": null,
            "overflow_y": null,
            "overflow_x": null,
            "grid_auto_flow": null,
            "grid_area": null,
            "grid_template_columns": null,
            "flex": null,
            "_model_name": "LayoutModel",
            "justify_items": null,
            "grid_row": null,
            "max_height": null,
            "align_content": null,
            "visibility": null,
            "align_self": null,
            "height": null,
            "min_height": null,
            "padding": null,
            "grid_auto_rows": null,
            "grid_gap": null,
            "max_width": null,
            "order": null,
            "_view_module_version": "1.2.0",
            "grid_template_areas": null,
            "object_position": null,
            "object_fit": null,
            "grid_auto_columns": null,
            "margin": null,
            "display": null,
            "left": null
          }
        },
        "8f9fcda5b8e04399bbe222a2aded32bb": {
          "model_module": "@jupyter-widgets/controls",
          "model_name": "HTMLModel",
          "model_module_version": "1.5.0",
          "state": {
            "_view_name": "HTMLView",
            "style": "IPY_MODEL_4841a459a5504f7cb415846d8e40c0fd",
            "_dom_classes": [],
            "description": "",
            "_model_name": "HTMLModel",
            "placeholder": "​",
            "_view_module": "@jupyter-widgets/controls",
            "_model_module_version": "1.5.0",
            "value": "Downloading: 100%",
            "_view_count": null,
            "_view_module_version": "1.5.0",
            "description_tooltip": null,
            "_model_module": "@jupyter-widgets/controls",
            "layout": "IPY_MODEL_569984dd827e4a7197ba05cf61d58de9"
          }
        },
        "379f223393274983a5be1d346a770321": {
          "model_module": "@jupyter-widgets/controls",
          "model_name": "FloatProgressModel",
          "model_module_version": "1.5.0",
          "state": {
            "_view_name": "ProgressView",
            "style": "IPY_MODEL_558672ed8574416a9fa2bbaa650ec160",
            "_dom_classes": [],
            "description": "",
            "_model_name": "FloatProgressModel",
            "bar_style": "success",
            "max": 3247202234,
            "_view_module": "@jupyter-widgets/controls",
            "_model_module_version": "1.5.0",
            "value": 3247202234,
            "_view_count": null,
            "_view_module_version": "1.5.0",
            "orientation": "horizontal",
            "min": 0,
            "description_tooltip": null,
            "_model_module": "@jupyter-widgets/controls",
            "layout": "IPY_MODEL_3ca486509367412f9b3b5cd0a007b134"
          }
        },
        "2ffb3a2906b843d3851f3c5a5f00ea9f": {
          "model_module": "@jupyter-widgets/controls",
          "model_name": "HTMLModel",
          "model_module_version": "1.5.0",
          "state": {
            "_view_name": "HTMLView",
            "style": "IPY_MODEL_e2d91c3b0ff34aab80fa9096630c80ee",
            "_dom_classes": [],
            "description": "",
            "_model_name": "HTMLModel",
            "placeholder": "​",
            "_view_module": "@jupyter-widgets/controls",
            "_model_module_version": "1.5.0",
            "value": " 3.02G/3.02G [04:28&lt;00:00, 29.8MB/s]",
            "_view_count": null,
            "_view_module_version": "1.5.0",
            "description_tooltip": null,
            "_model_module": "@jupyter-widgets/controls",
            "layout": "IPY_MODEL_2162bb2d65774e198aeb5e0d6642796a"
          }
        },
        "4841a459a5504f7cb415846d8e40c0fd": {
          "model_module": "@jupyter-widgets/controls",
          "model_name": "DescriptionStyleModel",
          "model_module_version": "1.5.0",
          "state": {
            "_view_name": "StyleView",
            "_model_name": "DescriptionStyleModel",
            "description_width": "",
            "_view_module": "@jupyter-widgets/base",
            "_model_module_version": "1.5.0",
            "_view_count": null,
            "_view_module_version": "1.2.0",
            "_model_module": "@jupyter-widgets/controls"
          }
        },
        "569984dd827e4a7197ba05cf61d58de9": {
          "model_module": "@jupyter-widgets/base",
          "model_name": "LayoutModel",
          "model_module_version": "1.2.0",
          "state": {
            "_view_name": "LayoutView",
            "grid_template_rows": null,
            "right": null,
            "justify_content": null,
            "_view_module": "@jupyter-widgets/base",
            "overflow": null,
            "_model_module_version": "1.2.0",
            "_view_count": null,
            "flex_flow": null,
            "width": null,
            "min_width": null,
            "border": null,
            "align_items": null,
            "bottom": null,
            "_model_module": "@jupyter-widgets/base",
            "top": null,
            "grid_column": null,
            "overflow_y": null,
            "overflow_x": null,
            "grid_auto_flow": null,
            "grid_area": null,
            "grid_template_columns": null,
            "flex": null,
            "_model_name": "LayoutModel",
            "justify_items": null,
            "grid_row": null,
            "max_height": null,
            "align_content": null,
            "visibility": null,
            "align_self": null,
            "height": null,
            "min_height": null,
            "padding": null,
            "grid_auto_rows": null,
            "grid_gap": null,
            "max_width": null,
            "order": null,
            "_view_module_version": "1.2.0",
            "grid_template_areas": null,
            "object_position": null,
            "object_fit": null,
            "grid_auto_columns": null,
            "margin": null,
            "display": null,
            "left": null
          }
        },
        "558672ed8574416a9fa2bbaa650ec160": {
          "model_module": "@jupyter-widgets/controls",
          "model_name": "ProgressStyleModel",
          "model_module_version": "1.5.0",
          "state": {
            "_view_name": "StyleView",
            "_model_name": "ProgressStyleModel",
            "description_width": "",
            "_view_module": "@jupyter-widgets/base",
            "_model_module_version": "1.5.0",
            "_view_count": null,
            "_view_module_version": "1.2.0",
            "bar_color": null,
            "_model_module": "@jupyter-widgets/controls"
          }
        },
        "3ca486509367412f9b3b5cd0a007b134": {
          "model_module": "@jupyter-widgets/base",
          "model_name": "LayoutModel",
          "model_module_version": "1.2.0",
          "state": {
            "_view_name": "LayoutView",
            "grid_template_rows": null,
            "right": null,
            "justify_content": null,
            "_view_module": "@jupyter-widgets/base",
            "overflow": null,
            "_model_module_version": "1.2.0",
            "_view_count": null,
            "flex_flow": null,
            "width": null,
            "min_width": null,
            "border": null,
            "align_items": null,
            "bottom": null,
            "_model_module": "@jupyter-widgets/base",
            "top": null,
            "grid_column": null,
            "overflow_y": null,
            "overflow_x": null,
            "grid_auto_flow": null,
            "grid_area": null,
            "grid_template_columns": null,
            "flex": null,
            "_model_name": "LayoutModel",
            "justify_items": null,
            "grid_row": null,
            "max_height": null,
            "align_content": null,
            "visibility": null,
            "align_self": null,
            "height": null,
            "min_height": null,
            "padding": null,
            "grid_auto_rows": null,
            "grid_gap": null,
            "max_width": null,
            "order": null,
            "_view_module_version": "1.2.0",
            "grid_template_areas": null,
            "object_position": null,
            "object_fit": null,
            "grid_auto_columns": null,
            "margin": null,
            "display": null,
            "left": null
          }
        },
        "e2d91c3b0ff34aab80fa9096630c80ee": {
          "model_module": "@jupyter-widgets/controls",
          "model_name": "DescriptionStyleModel",
          "model_module_version": "1.5.0",
          "state": {
            "_view_name": "StyleView",
            "_model_name": "DescriptionStyleModel",
            "description_width": "",
            "_view_module": "@jupyter-widgets/base",
            "_model_module_version": "1.5.0",
            "_view_count": null,
            "_view_module_version": "1.2.0",
            "_model_module": "@jupyter-widgets/controls"
          }
        },
        "2162bb2d65774e198aeb5e0d6642796a": {
          "model_module": "@jupyter-widgets/base",
          "model_name": "LayoutModel",
          "model_module_version": "1.2.0",
          "state": {
            "_view_name": "LayoutView",
            "grid_template_rows": null,
            "right": null,
            "justify_content": null,
            "_view_module": "@jupyter-widgets/base",
            "overflow": null,
            "_model_module_version": "1.2.0",
            "_view_count": null,
            "flex_flow": null,
            "width": null,
            "min_width": null,
            "border": null,
            "align_items": null,
            "bottom": null,
            "_model_module": "@jupyter-widgets/base",
            "top": null,
            "grid_column": null,
            "overflow_y": null,
            "overflow_x": null,
            "grid_auto_flow": null,
            "grid_area": null,
            "grid_template_columns": null,
            "flex": null,
            "_model_name": "LayoutModel",
            "justify_items": null,
            "grid_row": null,
            "max_height": null,
            "align_content": null,
            "visibility": null,
            "align_self": null,
            "height": null,
            "min_height": null,
            "padding": null,
            "grid_auto_rows": null,
            "grid_gap": null,
            "max_width": null,
            "order": null,
            "_view_module_version": "1.2.0",
            "grid_template_areas": null,
            "object_position": null,
            "object_fit": null,
            "grid_auto_columns": null,
            "margin": null,
            "display": null,
            "left": null
          }
        },
        "524ad1dfee144c1292aefa5c3481e3d1": {
          "model_module": "@jupyter-widgets/controls",
          "model_name": "HBoxModel",
          "model_module_version": "1.5.0",
          "state": {
            "_view_name": "HBoxView",
            "_dom_classes": [],
            "_model_name": "HBoxModel",
            "_view_module": "@jupyter-widgets/controls",
            "_model_module_version": "1.5.0",
            "_view_count": null,
            "_view_module_version": "1.5.0",
            "box_style": "",
            "layout": "IPY_MODEL_2ad6602c92ee4125ba2b187399ed7f66",
            "_model_module": "@jupyter-widgets/controls",
            "children": [
              "IPY_MODEL_2f595d80727d4f538a7a779ec0d42f4a",
              "IPY_MODEL_32e5a7af6688407b88bb417a3ca9cbda",
              "IPY_MODEL_8c96855dfd7e4c2da3786a8404a8bafe"
            ]
          }
        },
        "2ad6602c92ee4125ba2b187399ed7f66": {
          "model_module": "@jupyter-widgets/base",
          "model_name": "LayoutModel",
          "model_module_version": "1.2.0",
          "state": {
            "_view_name": "LayoutView",
            "grid_template_rows": null,
            "right": null,
            "justify_content": null,
            "_view_module": "@jupyter-widgets/base",
            "overflow": null,
            "_model_module_version": "1.2.0",
            "_view_count": null,
            "flex_flow": null,
            "width": null,
            "min_width": null,
            "border": null,
            "align_items": null,
            "bottom": null,
            "_model_module": "@jupyter-widgets/base",
            "top": null,
            "grid_column": null,
            "overflow_y": null,
            "overflow_x": null,
            "grid_auto_flow": null,
            "grid_area": null,
            "grid_template_columns": null,
            "flex": null,
            "_model_name": "LayoutModel",
            "justify_items": null,
            "grid_row": null,
            "max_height": null,
            "align_content": null,
            "visibility": null,
            "align_self": null,
            "height": null,
            "min_height": null,
            "padding": null,
            "grid_auto_rows": null,
            "grid_gap": null,
            "max_width": null,
            "order": null,
            "_view_module_version": "1.2.0",
            "grid_template_areas": null,
            "object_position": null,
            "object_fit": null,
            "grid_auto_columns": null,
            "margin": null,
            "display": null,
            "left": null
          }
        },
        "2f595d80727d4f538a7a779ec0d42f4a": {
          "model_module": "@jupyter-widgets/controls",
          "model_name": "HTMLModel",
          "model_module_version": "1.5.0",
          "state": {
            "_view_name": "HTMLView",
            "style": "IPY_MODEL_d198953f33ac42bdbb19af08dfe552f1",
            "_dom_classes": [],
            "description": "",
            "_model_name": "HTMLModel",
            "placeholder": "​",
            "_view_module": "@jupyter-widgets/controls",
            "_model_module_version": "1.5.0",
            "value": "Downloading: 100%",
            "_view_count": null,
            "_view_module_version": "1.5.0",
            "description_tooltip": null,
            "_model_module": "@jupyter-widgets/controls",
            "layout": "IPY_MODEL_c302c30c344a4e99a6a5ea3e364fb1c6"
          }
        },
        "32e5a7af6688407b88bb417a3ca9cbda": {
          "model_module": "@jupyter-widgets/controls",
          "model_name": "FloatProgressModel",
          "model_module_version": "1.5.0",
          "state": {
            "_view_name": "ProgressView",
            "style": "IPY_MODEL_25eb4075be8840f29f30070623cdd9a2",
            "_dom_classes": [],
            "description": "",
            "_model_name": "FloatProgressModel",
            "bar_style": "success",
            "max": 1042301,
            "_view_module": "@jupyter-widgets/controls",
            "_model_module_version": "1.5.0",
            "value": 1042301,
            "_view_count": null,
            "_view_module_version": "1.5.0",
            "orientation": "horizontal",
            "min": 0,
            "description_tooltip": null,
            "_model_module": "@jupyter-widgets/controls",
            "layout": "IPY_MODEL_9c943cc7ad5c4c59ba623799d96c8b32"
          }
        },
        "8c96855dfd7e4c2da3786a8404a8bafe": {
          "model_module": "@jupyter-widgets/controls",
          "model_name": "HTMLModel",
          "model_module_version": "1.5.0",
          "state": {
            "_view_name": "HTMLView",
            "style": "IPY_MODEL_f72cd2e822bd43c3bfa0e3d87f3485b1",
            "_dom_classes": [],
            "description": "",
            "_model_name": "HTMLModel",
            "placeholder": "​",
            "_view_module": "@jupyter-widgets/controls",
            "_model_module_version": "1.5.0",
            "value": " 0.99M/0.99M [00:01&lt;00:00, 270kB/s]",
            "_view_count": null,
            "_view_module_version": "1.5.0",
            "description_tooltip": null,
            "_model_module": "@jupyter-widgets/controls",
            "layout": "IPY_MODEL_d2b18fa724ad48258df6a03202b7902c"
          }
        },
        "d198953f33ac42bdbb19af08dfe552f1": {
          "model_module": "@jupyter-widgets/controls",
          "model_name": "DescriptionStyleModel",
          "model_module_version": "1.5.0",
          "state": {
            "_view_name": "StyleView",
            "_model_name": "DescriptionStyleModel",
            "description_width": "",
            "_view_module": "@jupyter-widgets/base",
            "_model_module_version": "1.5.0",
            "_view_count": null,
            "_view_module_version": "1.2.0",
            "_model_module": "@jupyter-widgets/controls"
          }
        },
        "c302c30c344a4e99a6a5ea3e364fb1c6": {
          "model_module": "@jupyter-widgets/base",
          "model_name": "LayoutModel",
          "model_module_version": "1.2.0",
          "state": {
            "_view_name": "LayoutView",
            "grid_template_rows": null,
            "right": null,
            "justify_content": null,
            "_view_module": "@jupyter-widgets/base",
            "overflow": null,
            "_model_module_version": "1.2.0",
            "_view_count": null,
            "flex_flow": null,
            "width": null,
            "min_width": null,
            "border": null,
            "align_items": null,
            "bottom": null,
            "_model_module": "@jupyter-widgets/base",
            "top": null,
            "grid_column": null,
            "overflow_y": null,
            "overflow_x": null,
            "grid_auto_flow": null,
            "grid_area": null,
            "grid_template_columns": null,
            "flex": null,
            "_model_name": "LayoutModel",
            "justify_items": null,
            "grid_row": null,
            "max_height": null,
            "align_content": null,
            "visibility": null,
            "align_self": null,
            "height": null,
            "min_height": null,
            "padding": null,
            "grid_auto_rows": null,
            "grid_gap": null,
            "max_width": null,
            "order": null,
            "_view_module_version": "1.2.0",
            "grid_template_areas": null,
            "object_position": null,
            "object_fit": null,
            "grid_auto_columns": null,
            "margin": null,
            "display": null,
            "left": null
          }
        },
        "25eb4075be8840f29f30070623cdd9a2": {
          "model_module": "@jupyter-widgets/controls",
          "model_name": "ProgressStyleModel",
          "model_module_version": "1.5.0",
          "state": {
            "_view_name": "StyleView",
            "_model_name": "ProgressStyleModel",
            "description_width": "",
            "_view_module": "@jupyter-widgets/base",
            "_model_module_version": "1.5.0",
            "_view_count": null,
            "_view_module_version": "1.2.0",
            "bar_color": null,
            "_model_module": "@jupyter-widgets/controls"
          }
        },
        "9c943cc7ad5c4c59ba623799d96c8b32": {
          "model_module": "@jupyter-widgets/base",
          "model_name": "LayoutModel",
          "model_module_version": "1.2.0",
          "state": {
            "_view_name": "LayoutView",
            "grid_template_rows": null,
            "right": null,
            "justify_content": null,
            "_view_module": "@jupyter-widgets/base",
            "overflow": null,
            "_model_module_version": "1.2.0",
            "_view_count": null,
            "flex_flow": null,
            "width": null,
            "min_width": null,
            "border": null,
            "align_items": null,
            "bottom": null,
            "_model_module": "@jupyter-widgets/base",
            "top": null,
            "grid_column": null,
            "overflow_y": null,
            "overflow_x": null,
            "grid_auto_flow": null,
            "grid_area": null,
            "grid_template_columns": null,
            "flex": null,
            "_model_name": "LayoutModel",
            "justify_items": null,
            "grid_row": null,
            "max_height": null,
            "align_content": null,
            "visibility": null,
            "align_self": null,
            "height": null,
            "min_height": null,
            "padding": null,
            "grid_auto_rows": null,
            "grid_gap": null,
            "max_width": null,
            "order": null,
            "_view_module_version": "1.2.0",
            "grid_template_areas": null,
            "object_position": null,
            "object_fit": null,
            "grid_auto_columns": null,
            "margin": null,
            "display": null,
            "left": null
          }
        },
        "f72cd2e822bd43c3bfa0e3d87f3485b1": {
          "model_module": "@jupyter-widgets/controls",
          "model_name": "DescriptionStyleModel",
          "model_module_version": "1.5.0",
          "state": {
            "_view_name": "StyleView",
            "_model_name": "DescriptionStyleModel",
            "description_width": "",
            "_view_module": "@jupyter-widgets/base",
            "_model_module_version": "1.5.0",
            "_view_count": null,
            "_view_module_version": "1.2.0",
            "_model_module": "@jupyter-widgets/controls"
          }
        },
        "d2b18fa724ad48258df6a03202b7902c": {
          "model_module": "@jupyter-widgets/base",
          "model_name": "LayoutModel",
          "model_module_version": "1.2.0",
          "state": {
            "_view_name": "LayoutView",
            "grid_template_rows": null,
            "right": null,
            "justify_content": null,
            "_view_module": "@jupyter-widgets/base",
            "overflow": null,
            "_model_module_version": "1.2.0",
            "_view_count": null,
            "flex_flow": null,
            "width": null,
            "min_width": null,
            "border": null,
            "align_items": null,
            "bottom": null,
            "_model_module": "@jupyter-widgets/base",
            "top": null,
            "grid_column": null,
            "overflow_y": null,
            "overflow_x": null,
            "grid_auto_flow": null,
            "grid_area": null,
            "grid_template_columns": null,
            "flex": null,
            "_model_name": "LayoutModel",
            "justify_items": null,
            "grid_row": null,
            "max_height": null,
            "align_content": null,
            "visibility": null,
            "align_self": null,
            "height": null,
            "min_height": null,
            "padding": null,
            "grid_auto_rows": null,
            "grid_gap": null,
            "max_width": null,
            "order": null,
            "_view_module_version": "1.2.0",
            "grid_template_areas": null,
            "object_position": null,
            "object_fit": null,
            "grid_auto_columns": null,
            "margin": null,
            "display": null,
            "left": null
          }
        },
        "31fd28882eb14bc6b528df4c18c93153": {
          "model_module": "@jupyter-widgets/controls",
          "model_name": "HBoxModel",
          "model_module_version": "1.5.0",
          "state": {
            "_view_name": "HBoxView",
            "_dom_classes": [],
            "_model_name": "HBoxModel",
            "_view_module": "@jupyter-widgets/controls",
            "_model_module_version": "1.5.0",
            "_view_count": null,
            "_view_module_version": "1.5.0",
            "box_style": "",
            "layout": "IPY_MODEL_8141637051aa4125b8b8743964305e45",
            "_model_module": "@jupyter-widgets/controls",
            "children": [
              "IPY_MODEL_212076a345394b22937ab1f246f52dbc",
              "IPY_MODEL_84907a4039bf4288b5f1e405d7709030",
              "IPY_MODEL_1143b9b284134350b787aa032d1f347f"
            ]
          }
        },
        "8141637051aa4125b8b8743964305e45": {
          "model_module": "@jupyter-widgets/base",
          "model_name": "LayoutModel",
          "model_module_version": "1.2.0",
          "state": {
            "_view_name": "LayoutView",
            "grid_template_rows": null,
            "right": null,
            "justify_content": null,
            "_view_module": "@jupyter-widgets/base",
            "overflow": null,
            "_model_module_version": "1.2.0",
            "_view_count": null,
            "flex_flow": null,
            "width": null,
            "min_width": null,
            "border": null,
            "align_items": null,
            "bottom": null,
            "_model_module": "@jupyter-widgets/base",
            "top": null,
            "grid_column": null,
            "overflow_y": null,
            "overflow_x": null,
            "grid_auto_flow": null,
            "grid_area": null,
            "grid_template_columns": null,
            "flex": null,
            "_model_name": "LayoutModel",
            "justify_items": null,
            "grid_row": null,
            "max_height": null,
            "align_content": null,
            "visibility": null,
            "align_self": null,
            "height": null,
            "min_height": null,
            "padding": null,
            "grid_auto_rows": null,
            "grid_gap": null,
            "max_width": null,
            "order": null,
            "_view_module_version": "1.2.0",
            "grid_template_areas": null,
            "object_position": null,
            "object_fit": null,
            "grid_auto_columns": null,
            "margin": null,
            "display": null,
            "left": null
          }
        },
        "212076a345394b22937ab1f246f52dbc": {
          "model_module": "@jupyter-widgets/controls",
          "model_name": "HTMLModel",
          "model_module_version": "1.5.0",
          "state": {
            "_view_name": "HTMLView",
            "style": "IPY_MODEL_34b244dbf7ef43c5a1bf0ff7fc23d527",
            "_dom_classes": [],
            "description": "",
            "_model_name": "HTMLModel",
            "placeholder": "​",
            "_view_module": "@jupyter-widgets/controls",
            "_model_module_version": "1.5.0",
            "value": "Downloading: 100%",
            "_view_count": null,
            "_view_module_version": "1.5.0",
            "description_tooltip": null,
            "_model_module": "@jupyter-widgets/controls",
            "layout": "IPY_MODEL_20030f0d6023420ea6e98a3e607c93c3"
          }
        },
        "84907a4039bf4288b5f1e405d7709030": {
          "model_module": "@jupyter-widgets/controls",
          "model_name": "FloatProgressModel",
          "model_module_version": "1.5.0",
          "state": {
            "_view_name": "ProgressView",
            "style": "IPY_MODEL_e35d876696b64bbfaabad44d270ac821",
            "_dom_classes": [],
            "description": "",
            "_model_name": "FloatProgressModel",
            "bar_style": "success",
            "max": 456318,
            "_view_module": "@jupyter-widgets/controls",
            "_model_module_version": "1.5.0",
            "value": 456318,
            "_view_count": null,
            "_view_module_version": "1.5.0",
            "orientation": "horizontal",
            "min": 0,
            "description_tooltip": null,
            "_model_module": "@jupyter-widgets/controls",
            "layout": "IPY_MODEL_10557fe0ffac487688b0c65b6a93b073"
          }
        },
        "1143b9b284134350b787aa032d1f347f": {
          "model_module": "@jupyter-widgets/controls",
          "model_name": "HTMLModel",
          "model_module_version": "1.5.0",
          "state": {
            "_view_name": "HTMLView",
            "style": "IPY_MODEL_fc926e5952164edbbf72898140ceef84",
            "_dom_classes": [],
            "description": "",
            "_model_name": "HTMLModel",
            "placeholder": "​",
            "_view_module": "@jupyter-widgets/controls",
            "_model_module_version": "1.5.0",
            "value": " 446k/446k [00:00&lt;00:00, 967kB/s]",
            "_view_count": null,
            "_view_module_version": "1.5.0",
            "description_tooltip": null,
            "_model_module": "@jupyter-widgets/controls",
            "layout": "IPY_MODEL_de96bd7159cd488d88cc8286f98f148c"
          }
        },
        "34b244dbf7ef43c5a1bf0ff7fc23d527": {
          "model_module": "@jupyter-widgets/controls",
          "model_name": "DescriptionStyleModel",
          "model_module_version": "1.5.0",
          "state": {
            "_view_name": "StyleView",
            "_model_name": "DescriptionStyleModel",
            "description_width": "",
            "_view_module": "@jupyter-widgets/base",
            "_model_module_version": "1.5.0",
            "_view_count": null,
            "_view_module_version": "1.2.0",
            "_model_module": "@jupyter-widgets/controls"
          }
        },
        "20030f0d6023420ea6e98a3e607c93c3": {
          "model_module": "@jupyter-widgets/base",
          "model_name": "LayoutModel",
          "model_module_version": "1.2.0",
          "state": {
            "_view_name": "LayoutView",
            "grid_template_rows": null,
            "right": null,
            "justify_content": null,
            "_view_module": "@jupyter-widgets/base",
            "overflow": null,
            "_model_module_version": "1.2.0",
            "_view_count": null,
            "flex_flow": null,
            "width": null,
            "min_width": null,
            "border": null,
            "align_items": null,
            "bottom": null,
            "_model_module": "@jupyter-widgets/base",
            "top": null,
            "grid_column": null,
            "overflow_y": null,
            "overflow_x": null,
            "grid_auto_flow": null,
            "grid_area": null,
            "grid_template_columns": null,
            "flex": null,
            "_model_name": "LayoutModel",
            "justify_items": null,
            "grid_row": null,
            "max_height": null,
            "align_content": null,
            "visibility": null,
            "align_self": null,
            "height": null,
            "min_height": null,
            "padding": null,
            "grid_auto_rows": null,
            "grid_gap": null,
            "max_width": null,
            "order": null,
            "_view_module_version": "1.2.0",
            "grid_template_areas": null,
            "object_position": null,
            "object_fit": null,
            "grid_auto_columns": null,
            "margin": null,
            "display": null,
            "left": null
          }
        },
        "e35d876696b64bbfaabad44d270ac821": {
          "model_module": "@jupyter-widgets/controls",
          "model_name": "ProgressStyleModel",
          "model_module_version": "1.5.0",
          "state": {
            "_view_name": "StyleView",
            "_model_name": "ProgressStyleModel",
            "description_width": "",
            "_view_module": "@jupyter-widgets/base",
            "_model_module_version": "1.5.0",
            "_view_count": null,
            "_view_module_version": "1.2.0",
            "bar_color": null,
            "_model_module": "@jupyter-widgets/controls"
          }
        },
        "10557fe0ffac487688b0c65b6a93b073": {
          "model_module": "@jupyter-widgets/base",
          "model_name": "LayoutModel",
          "model_module_version": "1.2.0",
          "state": {
            "_view_name": "LayoutView",
            "grid_template_rows": null,
            "right": null,
            "justify_content": null,
            "_view_module": "@jupyter-widgets/base",
            "overflow": null,
            "_model_module_version": "1.2.0",
            "_view_count": null,
            "flex_flow": null,
            "width": null,
            "min_width": null,
            "border": null,
            "align_items": null,
            "bottom": null,
            "_model_module": "@jupyter-widgets/base",
            "top": null,
            "grid_column": null,
            "overflow_y": null,
            "overflow_x": null,
            "grid_auto_flow": null,
            "grid_area": null,
            "grid_template_columns": null,
            "flex": null,
            "_model_name": "LayoutModel",
            "justify_items": null,
            "grid_row": null,
            "max_height": null,
            "align_content": null,
            "visibility": null,
            "align_self": null,
            "height": null,
            "min_height": null,
            "padding": null,
            "grid_auto_rows": null,
            "grid_gap": null,
            "max_width": null,
            "order": null,
            "_view_module_version": "1.2.0",
            "grid_template_areas": null,
            "object_position": null,
            "object_fit": null,
            "grid_auto_columns": null,
            "margin": null,
            "display": null,
            "left": null
          }
        },
        "fc926e5952164edbbf72898140ceef84": {
          "model_module": "@jupyter-widgets/controls",
          "model_name": "DescriptionStyleModel",
          "model_module_version": "1.5.0",
          "state": {
            "_view_name": "StyleView",
            "_model_name": "DescriptionStyleModel",
            "description_width": "",
            "_view_module": "@jupyter-widgets/base",
            "_model_module_version": "1.5.0",
            "_view_count": null,
            "_view_module_version": "1.2.0",
            "_model_module": "@jupyter-widgets/controls"
          }
        },
        "de96bd7159cd488d88cc8286f98f148c": {
          "model_module": "@jupyter-widgets/base",
          "model_name": "LayoutModel",
          "model_module_version": "1.2.0",
          "state": {
            "_view_name": "LayoutView",
            "grid_template_rows": null,
            "right": null,
            "justify_content": null,
            "_view_module": "@jupyter-widgets/base",
            "overflow": null,
            "_model_module_version": "1.2.0",
            "_view_count": null,
            "flex_flow": null,
            "width": null,
            "min_width": null,
            "border": null,
            "align_items": null,
            "bottom": null,
            "_model_module": "@jupyter-widgets/base",
            "top": null,
            "grid_column": null,
            "overflow_y": null,
            "overflow_x": null,
            "grid_auto_flow": null,
            "grid_area": null,
            "grid_template_columns": null,
            "flex": null,
            "_model_name": "LayoutModel",
            "justify_items": null,
            "grid_row": null,
            "max_height": null,
            "align_content": null,
            "visibility": null,
            "align_self": null,
            "height": null,
            "min_height": null,
            "padding": null,
            "grid_auto_rows": null,
            "grid_gap": null,
            "max_width": null,
            "order": null,
            "_view_module_version": "1.2.0",
            "grid_template_areas": null,
            "object_position": null,
            "object_fit": null,
            "grid_auto_columns": null,
            "margin": null,
            "display": null,
            "left": null
          }
        },
        "a7bd652522b045c6b28c09d835e9b0c2": {
          "model_module": "@jupyter-widgets/controls",
          "model_name": "HBoxModel",
          "model_module_version": "1.5.0",
          "state": {
            "_view_name": "HBoxView",
            "_dom_classes": [],
            "_model_name": "HBoxModel",
            "_view_module": "@jupyter-widgets/controls",
            "_model_module_version": "1.5.0",
            "_view_count": null,
            "_view_module_version": "1.5.0",
            "box_style": "",
            "layout": "IPY_MODEL_bcb41e24debe46b69685098d4b1cae90",
            "_model_module": "@jupyter-widgets/controls",
            "children": [
              "IPY_MODEL_e352d21ca8c2485b8339bfcd78a19e6d",
              "IPY_MODEL_ee9fe9eb870c4d4195ceb3610c587c27",
              "IPY_MODEL_af50355a736d4141afad15e424c860cb"
            ]
          }
        },
        "bcb41e24debe46b69685098d4b1cae90": {
          "model_module": "@jupyter-widgets/base",
          "model_name": "LayoutModel",
          "model_module_version": "1.2.0",
          "state": {
            "_view_name": "LayoutView",
            "grid_template_rows": null,
            "right": null,
            "justify_content": null,
            "_view_module": "@jupyter-widgets/base",
            "overflow": null,
            "_model_module_version": "1.2.0",
            "_view_count": null,
            "flex_flow": null,
            "width": null,
            "min_width": null,
            "border": null,
            "align_items": null,
            "bottom": null,
            "_model_module": "@jupyter-widgets/base",
            "top": null,
            "grid_column": null,
            "overflow_y": null,
            "overflow_x": null,
            "grid_auto_flow": null,
            "grid_area": null,
            "grid_template_columns": null,
            "flex": null,
            "_model_name": "LayoutModel",
            "justify_items": null,
            "grid_row": null,
            "max_height": null,
            "align_content": null,
            "visibility": null,
            "align_self": null,
            "height": null,
            "min_height": null,
            "padding": null,
            "grid_auto_rows": null,
            "grid_gap": null,
            "max_width": null,
            "order": null,
            "_view_module_version": "1.2.0",
            "grid_template_areas": null,
            "object_position": null,
            "object_fit": null,
            "grid_auto_columns": null,
            "margin": null,
            "display": null,
            "left": null
          }
        },
        "e352d21ca8c2485b8339bfcd78a19e6d": {
          "model_module": "@jupyter-widgets/controls",
          "model_name": "HTMLModel",
          "model_module_version": "1.5.0",
          "state": {
            "_view_name": "HTMLView",
            "style": "IPY_MODEL_8241fad9b064415380f0d7d95b9f5ec9",
            "_dom_classes": [],
            "description": "",
            "_model_name": "HTMLModel",
            "placeholder": "​",
            "_view_module": "@jupyter-widgets/controls",
            "_model_module_version": "1.5.0",
            "value": "Downloading: 100%",
            "_view_count": null,
            "_view_module_version": "1.5.0",
            "description_tooltip": null,
            "_model_module": "@jupyter-widgets/controls",
            "layout": "IPY_MODEL_01dce1dce0ea485c81c7048e8c899dc8"
          }
        },
        "ee9fe9eb870c4d4195ceb3610c587c27": {
          "model_module": "@jupyter-widgets/controls",
          "model_name": "FloatProgressModel",
          "model_module_version": "1.5.0",
          "state": {
            "_view_name": "ProgressView",
            "style": "IPY_MODEL_d8d84ab920d14fab90ff02e46a8e7088",
            "_dom_classes": [],
            "description": "",
            "_model_name": "FloatProgressModel",
            "bar_style": "success",
            "max": 1355256,
            "_view_module": "@jupyter-widgets/controls",
            "_model_module_version": "1.5.0",
            "value": 1355256,
            "_view_count": null,
            "_view_module_version": "1.5.0",
            "orientation": "horizontal",
            "min": 0,
            "description_tooltip": null,
            "_model_module": "@jupyter-widgets/controls",
            "layout": "IPY_MODEL_9767c0ad79b04519ae0a39f8cb5ad97a"
          }
        },
        "af50355a736d4141afad15e424c860cb": {
          "model_module": "@jupyter-widgets/controls",
          "model_name": "HTMLModel",
          "model_module_version": "1.5.0",
          "state": {
            "_view_name": "HTMLView",
            "style": "IPY_MODEL_abf654cfdde84ef19808a154faefa4ad",
            "_dom_classes": [],
            "description": "",
            "_model_name": "HTMLModel",
            "placeholder": "​",
            "_view_module": "@jupyter-widgets/controls",
            "_model_module_version": "1.5.0",
            "value": " 1.29M/1.29M [00:00&lt;00:00, 3.80MB/s]",
            "_view_count": null,
            "_view_module_version": "1.5.0",
            "description_tooltip": null,
            "_model_module": "@jupyter-widgets/controls",
            "layout": "IPY_MODEL_662784e90ccc469fa010f4105fcdcf54"
          }
        },
        "8241fad9b064415380f0d7d95b9f5ec9": {
          "model_module": "@jupyter-widgets/controls",
          "model_name": "DescriptionStyleModel",
          "model_module_version": "1.5.0",
          "state": {
            "_view_name": "StyleView",
            "_model_name": "DescriptionStyleModel",
            "description_width": "",
            "_view_module": "@jupyter-widgets/base",
            "_model_module_version": "1.5.0",
            "_view_count": null,
            "_view_module_version": "1.2.0",
            "_model_module": "@jupyter-widgets/controls"
          }
        },
        "01dce1dce0ea485c81c7048e8c899dc8": {
          "model_module": "@jupyter-widgets/base",
          "model_name": "LayoutModel",
          "model_module_version": "1.2.0",
          "state": {
            "_view_name": "LayoutView",
            "grid_template_rows": null,
            "right": null,
            "justify_content": null,
            "_view_module": "@jupyter-widgets/base",
            "overflow": null,
            "_model_module_version": "1.2.0",
            "_view_count": null,
            "flex_flow": null,
            "width": null,
            "min_width": null,
            "border": null,
            "align_items": null,
            "bottom": null,
            "_model_module": "@jupyter-widgets/base",
            "top": null,
            "grid_column": null,
            "overflow_y": null,
            "overflow_x": null,
            "grid_auto_flow": null,
            "grid_area": null,
            "grid_template_columns": null,
            "flex": null,
            "_model_name": "LayoutModel",
            "justify_items": null,
            "grid_row": null,
            "max_height": null,
            "align_content": null,
            "visibility": null,
            "align_self": null,
            "height": null,
            "min_height": null,
            "padding": null,
            "grid_auto_rows": null,
            "grid_gap": null,
            "max_width": null,
            "order": null,
            "_view_module_version": "1.2.0",
            "grid_template_areas": null,
            "object_position": null,
            "object_fit": null,
            "grid_auto_columns": null,
            "margin": null,
            "display": null,
            "left": null
          }
        },
        "d8d84ab920d14fab90ff02e46a8e7088": {
          "model_module": "@jupyter-widgets/controls",
          "model_name": "ProgressStyleModel",
          "model_module_version": "1.5.0",
          "state": {
            "_view_name": "StyleView",
            "_model_name": "ProgressStyleModel",
            "description_width": "",
            "_view_module": "@jupyter-widgets/base",
            "_model_module_version": "1.5.0",
            "_view_count": null,
            "_view_module_version": "1.2.0",
            "bar_color": null,
            "_model_module": "@jupyter-widgets/controls"
          }
        },
        "9767c0ad79b04519ae0a39f8cb5ad97a": {
          "model_module": "@jupyter-widgets/base",
          "model_name": "LayoutModel",
          "model_module_version": "1.2.0",
          "state": {
            "_view_name": "LayoutView",
            "grid_template_rows": null,
            "right": null,
            "justify_content": null,
            "_view_module": "@jupyter-widgets/base",
            "overflow": null,
            "_model_module_version": "1.2.0",
            "_view_count": null,
            "flex_flow": null,
            "width": null,
            "min_width": null,
            "border": null,
            "align_items": null,
            "bottom": null,
            "_model_module": "@jupyter-widgets/base",
            "top": null,
            "grid_column": null,
            "overflow_y": null,
            "overflow_x": null,
            "grid_auto_flow": null,
            "grid_area": null,
            "grid_template_columns": null,
            "flex": null,
            "_model_name": "LayoutModel",
            "justify_items": null,
            "grid_row": null,
            "max_height": null,
            "align_content": null,
            "visibility": null,
            "align_self": null,
            "height": null,
            "min_height": null,
            "padding": null,
            "grid_auto_rows": null,
            "grid_gap": null,
            "max_width": null,
            "order": null,
            "_view_module_version": "1.2.0",
            "grid_template_areas": null,
            "object_position": null,
            "object_fit": null,
            "grid_auto_columns": null,
            "margin": null,
            "display": null,
            "left": null
          }
        },
        "abf654cfdde84ef19808a154faefa4ad": {
          "model_module": "@jupyter-widgets/controls",
          "model_name": "DescriptionStyleModel",
          "model_module_version": "1.5.0",
          "state": {
            "_view_name": "StyleView",
            "_model_name": "DescriptionStyleModel",
            "description_width": "",
            "_view_module": "@jupyter-widgets/base",
            "_model_module_version": "1.5.0",
            "_view_count": null,
            "_view_module_version": "1.2.0",
            "_model_module": "@jupyter-widgets/controls"
          }
        },
        "662784e90ccc469fa010f4105fcdcf54": {
          "model_module": "@jupyter-widgets/base",
          "model_name": "LayoutModel",
          "model_module_version": "1.2.0",
          "state": {
            "_view_name": "LayoutView",
            "grid_template_rows": null,
            "right": null,
            "justify_content": null,
            "_view_module": "@jupyter-widgets/base",
            "overflow": null,
            "_model_module_version": "1.2.0",
            "_view_count": null,
            "flex_flow": null,
            "width": null,
            "min_width": null,
            "border": null,
            "align_items": null,
            "bottom": null,
            "_model_module": "@jupyter-widgets/base",
            "top": null,
            "grid_column": null,
            "overflow_y": null,
            "overflow_x": null,
            "grid_auto_flow": null,
            "grid_area": null,
            "grid_template_columns": null,
            "flex": null,
            "_model_name": "LayoutModel",
            "justify_items": null,
            "grid_row": null,
            "max_height": null,
            "align_content": null,
            "visibility": null,
            "align_self": null,
            "height": null,
            "min_height": null,
            "padding": null,
            "grid_auto_rows": null,
            "grid_gap": null,
            "max_width": null,
            "order": null,
            "_view_module_version": "1.2.0",
            "grid_template_areas": null,
            "object_position": null,
            "object_fit": null,
            "grid_auto_columns": null,
            "margin": null,
            "display": null,
            "left": null
          }
        }
      }
    },
    "accelerator": "GPU"
  },
  "cells": [
    {
      "cell_type": "markdown",
      "metadata": {
        "id": "MNv20SGG0M7f"
      },
      "source": [
        "# <center> **Disaster Tweets**"
      ]
    },
    {
      "cell_type": "markdown",
      "metadata": {
        "id": "xXOLQrI4xgAH"
      },
      "source": [
        "\n",
        "## <center> A text mining project to identify disaster events to improve response."
      ]
    },
    {
      "cell_type": "markdown",
      "metadata": {
        "id": "6vQiTei21ARu"
      },
      "source": [
        "## 1. Business Problem Definition"
      ]
    },
    {
      "cell_type": "markdown",
      "metadata": {
        "id": "fBgk3i491rob"
      },
      "source": [
        "Social media is a vital part of our lives and has even bigger impact in the younger generation. People post their feelings, activities, and actions, in their social media accounts such as twitter, even before they let their close ones know. There are many circumstances where people communicate an emergency messages or disaster events in social media using micro blogging services. Therefore, it is vital that the emergency responders and first line responders needs to monitor those distressing tweets and posts so that they are more aware of the situation and circumstances before it gets worse. While one part of disaster response is notifying emergency responders, the other part of it is to limit access of people in those areas. This can easily be done by establishing alert system in cellphones similar to AMBER alert and Blue alert based on Geo location code of the disaster location. <br> <br>\n",
        "However, unfortunately, the greater challenge is that social media today is also a medium of spreading fake news; hence, the bigger challenge is to identify only real disasters events to alert first-responders and other citizens through mobile alert system. In regards to the audience or users of this problem, this could be the vital part of country's emergency response platform. Since everyone today has cellphone handy, introducing new type of disaster alert system similar to AMBER alert or Blue Alert would greatly support all citizens if the alerts are real, live, and not fake. Therefore, all the citizens, help seekers, and emergency responders are affected by this problem.\n",
        "<br> <br>\n",
        "\n",
        "Building a model, that classifies real and fake disaster tweets such as emergency calls, accidents, ablaze, etc. can have a greater social and economic impact. If people are notified of the disaster events in their cellphone similar to AMBER Alerts based on geo-location of the tweets, people in the surrounding area can be alert and take necessary precautions. For example, recently Hurricane Ida hit NJ in the least expected way. During this time, few roads were working file whereas others were blocked due to flood. If we had disaster response alert system that notified people that certain roads were closed by analyzing tweets of people getting stuck in flood, other people would have taken alternative path and would have reached destination safely. This also applies for emergency responders to better prepare for disasters and respond quickly potentially saving lives and communities. Therefore, this model by flagging the disaster tweets, it can limit people's acess to disaster region as well as provide information to emergency responders at the same time.\n",
        "<br> <br>\n",
        "Once we build a model that classifies real and fake disaster news, this model can be directly linked to national alert system such as AMBER alert or Blue alert OR to social media using API, urls, or tweet reports, with the cooperation of social media hosts such as Twitter. Once, we connect this model real time, it can respond to the distressing tweets that are flagged as real, as responding to fake tweets or fake emergency calls may prove to be extremely expensive for emergency responders. Considering the importance of this model and impact that it can have on people's lives, we will choose the model with higher accuracy and the model is deemed acceptable if it has an accuracy of over 80 percent.\n",
        "\n"
      ]
    },
    {
      "cell_type": "markdown",
      "metadata": {
        "id": "V7e666aP1MKt"
      },
      "source": [
        "## 2. Exploratory Data Analysis"
      ]
    },
    {
      "cell_type": "markdown",
      "metadata": {
        "id": "kS0lPewF26pb"
      },
      "source": [
        "### Dataset Explanation"
      ]
    },
    {
      "cell_type": "markdown",
      "metadata": {
        "id": "K8hJLbt6ndNe"
      },
      "source": [
        "For this project, we will be using dataset from Kaggle. The dataset is named as *Disaster Tweets*. It contains over 11,000 tweets associated with disaster keywords such as \"crash\", \"quarintine\", \"bushfires\", \"ablaze\", etc. that were collected on January, 2020. Some of the topics that people were tweeting were about Coronavirus, Fire in Australia, Volcano Eruption in Philippines, Plane Bombing, etc.\n"
      ]
    },
    {
      "cell_type": "code",
      "metadata": {
        "id": "puWf5b2nDI7I"
      },
      "source": [
        "#importing pandas\n",
        "import pandas as pd\n",
        "\n",
        "#uploading dataset\n",
        "df = pd.read_csv(\"tweets.csv\")"
      ],
      "execution_count": null,
      "outputs": []
    },
    {
      "cell_type": "code",
      "metadata": {
        "id": "B1YnFTNj2DkK",
        "colab": {
          "base_uri": "https://localhost:8080/"
        },
        "outputId": "2938b6b3-c490-4bce-8b04-309fdb8500a9"
      },
      "source": [
        "df.info()"
      ],
      "execution_count": null,
      "outputs": [
        {
          "output_type": "stream",
          "name": "stdout",
          "text": [
            "<class 'pandas.core.frame.DataFrame'>\n",
            "RangeIndex: 11370 entries, 0 to 11369\n",
            "Data columns (total 5 columns):\n",
            " #   Column    Non-Null Count  Dtype \n",
            "---  ------    --------------  ----- \n",
            " 0   id        11370 non-null  int64 \n",
            " 1   keyword   11370 non-null  object\n",
            " 2   location  7952 non-null   object\n",
            " 3   text      11370 non-null  object\n",
            " 4   target    11370 non-null  int64 \n",
            "dtypes: int64(2), object(3)\n",
            "memory usage: 444.3+ KB\n"
          ]
        }
      ]
    },
    {
      "cell_type": "markdown",
      "metadata": {
        "id": "U2jjYsXao2RR"
      },
      "source": [
        "As we can see above, the dataset contains five columns. However, as the purpose of this project is to analyze and classify the tweets, we will be focusing mainly on tweet text which is \"text\" for our analysis. \n",
        "\n",
        "The \"target\" column indicates whether the tweet is fake or real. Since we only want to focus on real tweets, we would label 1 as real disaster tweets and 0 for fake tweets. In the dataset, it is already classified as the way we want in our model. "
      ]
    },
    {
      "cell_type": "markdown",
      "metadata": {
        "id": "fyuEHsD7stwa"
      },
      "source": [
        "### Data Preprocessing"
      ]
    },
    {
      "cell_type": "code",
      "metadata": {
        "colab": {
          "base_uri": "https://localhost:8080/",
          "height": 206
        },
        "id": "y1Z6JdUEERcs",
        "outputId": "85411872-2947-4097-b0f4-53023cfc5431"
      },
      "source": [
        "#previewing imported dataset\n",
        "df.head()"
      ],
      "execution_count": null,
      "outputs": [
        {
          "output_type": "execute_result",
          "data": {
            "text/html": [
              "\n",
              "  <div id=\"df-665ffcc6-ae6e-4a51-9d7f-2eaf339087d9\">\n",
              "    <div class=\"colab-df-container\">\n",
              "      <div>\n",
              "<style scoped>\n",
              "    .dataframe tbody tr th:only-of-type {\n",
              "        vertical-align: middle;\n",
              "    }\n",
              "\n",
              "    .dataframe tbody tr th {\n",
              "        vertical-align: top;\n",
              "    }\n",
              "\n",
              "    .dataframe thead th {\n",
              "        text-align: right;\n",
              "    }\n",
              "</style>\n",
              "<table border=\"1\" class=\"dataframe\">\n",
              "  <thead>\n",
              "    <tr style=\"text-align: right;\">\n",
              "      <th></th>\n",
              "      <th>id</th>\n",
              "      <th>keyword</th>\n",
              "      <th>location</th>\n",
              "      <th>text</th>\n",
              "      <th>target</th>\n",
              "    </tr>\n",
              "  </thead>\n",
              "  <tbody>\n",
              "    <tr>\n",
              "      <th>0</th>\n",
              "      <td>0</td>\n",
              "      <td>ablaze</td>\n",
              "      <td>NaN</td>\n",
              "      <td>Communal violence in Bhainsa, Telangana. \"Ston...</td>\n",
              "      <td>1</td>\n",
              "    </tr>\n",
              "    <tr>\n",
              "      <th>1</th>\n",
              "      <td>1</td>\n",
              "      <td>ablaze</td>\n",
              "      <td>NaN</td>\n",
              "      <td>Telangana: Section 144 has been imposed in Bha...</td>\n",
              "      <td>1</td>\n",
              "    </tr>\n",
              "    <tr>\n",
              "      <th>2</th>\n",
              "      <td>2</td>\n",
              "      <td>ablaze</td>\n",
              "      <td>New York City</td>\n",
              "      <td>Arsonist sets cars ablaze at dealership https:...</td>\n",
              "      <td>1</td>\n",
              "    </tr>\n",
              "    <tr>\n",
              "      <th>3</th>\n",
              "      <td>3</td>\n",
              "      <td>ablaze</td>\n",
              "      <td>Morgantown, WV</td>\n",
              "      <td>Arsonist sets cars ablaze at dealership https:...</td>\n",
              "      <td>1</td>\n",
              "    </tr>\n",
              "    <tr>\n",
              "      <th>4</th>\n",
              "      <td>4</td>\n",
              "      <td>ablaze</td>\n",
              "      <td>NaN</td>\n",
              "      <td>\"Lord Jesus, your love brings freedom and pard...</td>\n",
              "      <td>0</td>\n",
              "    </tr>\n",
              "  </tbody>\n",
              "</table>\n",
              "</div>\n",
              "      <button class=\"colab-df-convert\" onclick=\"convertToInteractive('df-665ffcc6-ae6e-4a51-9d7f-2eaf339087d9')\"\n",
              "              title=\"Convert this dataframe to an interactive table.\"\n",
              "              style=\"display:none;\">\n",
              "        \n",
              "  <svg xmlns=\"http://www.w3.org/2000/svg\" height=\"24px\"viewBox=\"0 0 24 24\"\n",
              "       width=\"24px\">\n",
              "    <path d=\"M0 0h24v24H0V0z\" fill=\"none\"/>\n",
              "    <path d=\"M18.56 5.44l.94 2.06.94-2.06 2.06-.94-2.06-.94-.94-2.06-.94 2.06-2.06.94zm-11 1L8.5 8.5l.94-2.06 2.06-.94-2.06-.94L8.5 2.5l-.94 2.06-2.06.94zm10 10l.94 2.06.94-2.06 2.06-.94-2.06-.94-.94-2.06-.94 2.06-2.06.94z\"/><path d=\"M17.41 7.96l-1.37-1.37c-.4-.4-.92-.59-1.43-.59-.52 0-1.04.2-1.43.59L10.3 9.45l-7.72 7.72c-.78.78-.78 2.05 0 2.83L4 21.41c.39.39.9.59 1.41.59.51 0 1.02-.2 1.41-.59l7.78-7.78 2.81-2.81c.8-.78.8-2.07 0-2.86zM5.41 20L4 18.59l7.72-7.72 1.47 1.35L5.41 20z\"/>\n",
              "  </svg>\n",
              "      </button>\n",
              "      \n",
              "  <style>\n",
              "    .colab-df-container {\n",
              "      display:flex;\n",
              "      flex-wrap:wrap;\n",
              "      gap: 12px;\n",
              "    }\n",
              "\n",
              "    .colab-df-convert {\n",
              "      background-color: #E8F0FE;\n",
              "      border: none;\n",
              "      border-radius: 50%;\n",
              "      cursor: pointer;\n",
              "      display: none;\n",
              "      fill: #1967D2;\n",
              "      height: 32px;\n",
              "      padding: 0 0 0 0;\n",
              "      width: 32px;\n",
              "    }\n",
              "\n",
              "    .colab-df-convert:hover {\n",
              "      background-color: #E2EBFA;\n",
              "      box-shadow: 0px 1px 2px rgba(60, 64, 67, 0.3), 0px 1px 3px 1px rgba(60, 64, 67, 0.15);\n",
              "      fill: #174EA6;\n",
              "    }\n",
              "\n",
              "    [theme=dark] .colab-df-convert {\n",
              "      background-color: #3B4455;\n",
              "      fill: #D2E3FC;\n",
              "    }\n",
              "\n",
              "    [theme=dark] .colab-df-convert:hover {\n",
              "      background-color: #434B5C;\n",
              "      box-shadow: 0px 1px 3px 1px rgba(0, 0, 0, 0.15);\n",
              "      filter: drop-shadow(0px 1px 2px rgba(0, 0, 0, 0.3));\n",
              "      fill: #FFFFFF;\n",
              "    }\n",
              "  </style>\n",
              "\n",
              "      <script>\n",
              "        const buttonEl =\n",
              "          document.querySelector('#df-665ffcc6-ae6e-4a51-9d7f-2eaf339087d9 button.colab-df-convert');\n",
              "        buttonEl.style.display =\n",
              "          google.colab.kernel.accessAllowed ? 'block' : 'none';\n",
              "\n",
              "        async function convertToInteractive(key) {\n",
              "          const element = document.querySelector('#df-665ffcc6-ae6e-4a51-9d7f-2eaf339087d9');\n",
              "          const dataTable =\n",
              "            await google.colab.kernel.invokeFunction('convertToInteractive',\n",
              "                                                     [key], {});\n",
              "          if (!dataTable) return;\n",
              "\n",
              "          const docLinkHtml = 'Like what you see? Visit the ' +\n",
              "            '<a target=\"_blank\" href=https://colab.research.google.com/notebooks/data_table.ipynb>data table notebook</a>'\n",
              "            + ' to learn more about interactive tables.';\n",
              "          element.innerHTML = '';\n",
              "          dataTable['output_type'] = 'display_data';\n",
              "          await google.colab.output.renderOutput(dataTable, element);\n",
              "          const docLink = document.createElement('div');\n",
              "          docLink.innerHTML = docLinkHtml;\n",
              "          element.appendChild(docLink);\n",
              "        }\n",
              "      </script>\n",
              "    </div>\n",
              "  </div>\n",
              "  "
            ],
            "text/plain": [
              "   id keyword  ...                                               text target\n",
              "0   0  ablaze  ...  Communal violence in Bhainsa, Telangana. \"Ston...      1\n",
              "1   1  ablaze  ...  Telangana: Section 144 has been imposed in Bha...      1\n",
              "2   2  ablaze  ...  Arsonist sets cars ablaze at dealership https:...      1\n",
              "3   3  ablaze  ...  Arsonist sets cars ablaze at dealership https:...      1\n",
              "4   4  ablaze  ...  \"Lord Jesus, your love brings freedom and pard...      0\n",
              "\n",
              "[5 rows x 5 columns]"
            ]
          },
          "metadata": {},
          "execution_count": 6
        }
      ]
    },
    {
      "cell_type": "code",
      "metadata": {
        "colab": {
          "base_uri": "https://localhost:8080/",
          "height": 206
        },
        "id": "OyjI_tcxEfgZ",
        "outputId": "088a08f3-7a4f-494f-ad65-f06fdf5bc67b"
      },
      "source": [
        "#dropping unrequired columns\n",
        "df.drop([\"id\",\"keyword\",\"location\"],axis = 1, inplace = True)\n",
        "\n",
        "#previewing dataframe after droping columns\n",
        "df.head()"
      ],
      "execution_count": null,
      "outputs": [
        {
          "output_type": "execute_result",
          "data": {
            "text/html": [
              "\n",
              "  <div id=\"df-246941e3-b4f0-465d-9613-eb3434b9c600\">\n",
              "    <div class=\"colab-df-container\">\n",
              "      <div>\n",
              "<style scoped>\n",
              "    .dataframe tbody tr th:only-of-type {\n",
              "        vertical-align: middle;\n",
              "    }\n",
              "\n",
              "    .dataframe tbody tr th {\n",
              "        vertical-align: top;\n",
              "    }\n",
              "\n",
              "    .dataframe thead th {\n",
              "        text-align: right;\n",
              "    }\n",
              "</style>\n",
              "<table border=\"1\" class=\"dataframe\">\n",
              "  <thead>\n",
              "    <tr style=\"text-align: right;\">\n",
              "      <th></th>\n",
              "      <th>text</th>\n",
              "      <th>target</th>\n",
              "    </tr>\n",
              "  </thead>\n",
              "  <tbody>\n",
              "    <tr>\n",
              "      <th>0</th>\n",
              "      <td>Communal violence in Bhainsa, Telangana. \"Ston...</td>\n",
              "      <td>1</td>\n",
              "    </tr>\n",
              "    <tr>\n",
              "      <th>1</th>\n",
              "      <td>Telangana: Section 144 has been imposed in Bha...</td>\n",
              "      <td>1</td>\n",
              "    </tr>\n",
              "    <tr>\n",
              "      <th>2</th>\n",
              "      <td>Arsonist sets cars ablaze at dealership https:...</td>\n",
              "      <td>1</td>\n",
              "    </tr>\n",
              "    <tr>\n",
              "      <th>3</th>\n",
              "      <td>Arsonist sets cars ablaze at dealership https:...</td>\n",
              "      <td>1</td>\n",
              "    </tr>\n",
              "    <tr>\n",
              "      <th>4</th>\n",
              "      <td>\"Lord Jesus, your love brings freedom and pard...</td>\n",
              "      <td>0</td>\n",
              "    </tr>\n",
              "  </tbody>\n",
              "</table>\n",
              "</div>\n",
              "      <button class=\"colab-df-convert\" onclick=\"convertToInteractive('df-246941e3-b4f0-465d-9613-eb3434b9c600')\"\n",
              "              title=\"Convert this dataframe to an interactive table.\"\n",
              "              style=\"display:none;\">\n",
              "        \n",
              "  <svg xmlns=\"http://www.w3.org/2000/svg\" height=\"24px\"viewBox=\"0 0 24 24\"\n",
              "       width=\"24px\">\n",
              "    <path d=\"M0 0h24v24H0V0z\" fill=\"none\"/>\n",
              "    <path d=\"M18.56 5.44l.94 2.06.94-2.06 2.06-.94-2.06-.94-.94-2.06-.94 2.06-2.06.94zm-11 1L8.5 8.5l.94-2.06 2.06-.94-2.06-.94L8.5 2.5l-.94 2.06-2.06.94zm10 10l.94 2.06.94-2.06 2.06-.94-2.06-.94-.94-2.06-.94 2.06-2.06.94z\"/><path d=\"M17.41 7.96l-1.37-1.37c-.4-.4-.92-.59-1.43-.59-.52 0-1.04.2-1.43.59L10.3 9.45l-7.72 7.72c-.78.78-.78 2.05 0 2.83L4 21.41c.39.39.9.59 1.41.59.51 0 1.02-.2 1.41-.59l7.78-7.78 2.81-2.81c.8-.78.8-2.07 0-2.86zM5.41 20L4 18.59l7.72-7.72 1.47 1.35L5.41 20z\"/>\n",
              "  </svg>\n",
              "      </button>\n",
              "      \n",
              "  <style>\n",
              "    .colab-df-container {\n",
              "      display:flex;\n",
              "      flex-wrap:wrap;\n",
              "      gap: 12px;\n",
              "    }\n",
              "\n",
              "    .colab-df-convert {\n",
              "      background-color: #E8F0FE;\n",
              "      border: none;\n",
              "      border-radius: 50%;\n",
              "      cursor: pointer;\n",
              "      display: none;\n",
              "      fill: #1967D2;\n",
              "      height: 32px;\n",
              "      padding: 0 0 0 0;\n",
              "      width: 32px;\n",
              "    }\n",
              "\n",
              "    .colab-df-convert:hover {\n",
              "      background-color: #E2EBFA;\n",
              "      box-shadow: 0px 1px 2px rgba(60, 64, 67, 0.3), 0px 1px 3px 1px rgba(60, 64, 67, 0.15);\n",
              "      fill: #174EA6;\n",
              "    }\n",
              "\n",
              "    [theme=dark] .colab-df-convert {\n",
              "      background-color: #3B4455;\n",
              "      fill: #D2E3FC;\n",
              "    }\n",
              "\n",
              "    [theme=dark] .colab-df-convert:hover {\n",
              "      background-color: #434B5C;\n",
              "      box-shadow: 0px 1px 3px 1px rgba(0, 0, 0, 0.15);\n",
              "      filter: drop-shadow(0px 1px 2px rgba(0, 0, 0, 0.3));\n",
              "      fill: #FFFFFF;\n",
              "    }\n",
              "  </style>\n",
              "\n",
              "      <script>\n",
              "        const buttonEl =\n",
              "          document.querySelector('#df-246941e3-b4f0-465d-9613-eb3434b9c600 button.colab-df-convert');\n",
              "        buttonEl.style.display =\n",
              "          google.colab.kernel.accessAllowed ? 'block' : 'none';\n",
              "\n",
              "        async function convertToInteractive(key) {\n",
              "          const element = document.querySelector('#df-246941e3-b4f0-465d-9613-eb3434b9c600');\n",
              "          const dataTable =\n",
              "            await google.colab.kernel.invokeFunction('convertToInteractive',\n",
              "                                                     [key], {});\n",
              "          if (!dataTable) return;\n",
              "\n",
              "          const docLinkHtml = 'Like what you see? Visit the ' +\n",
              "            '<a target=\"_blank\" href=https://colab.research.google.com/notebooks/data_table.ipynb>data table notebook</a>'\n",
              "            + ' to learn more about interactive tables.';\n",
              "          element.innerHTML = '';\n",
              "          dataTable['output_type'] = 'display_data';\n",
              "          await google.colab.output.renderOutput(dataTable, element);\n",
              "          const docLink = document.createElement('div');\n",
              "          docLink.innerHTML = docLinkHtml;\n",
              "          element.appendChild(docLink);\n",
              "        }\n",
              "      </script>\n",
              "    </div>\n",
              "  </div>\n",
              "  "
            ],
            "text/plain": [
              "                                                text  target\n",
              "0  Communal violence in Bhainsa, Telangana. \"Ston...       1\n",
              "1  Telangana: Section 144 has been imposed in Bha...       1\n",
              "2  Arsonist sets cars ablaze at dealership https:...       1\n",
              "3  Arsonist sets cars ablaze at dealership https:...       1\n",
              "4  \"Lord Jesus, your love brings freedom and pard...       0"
            ]
          },
          "metadata": {},
          "execution_count": 7
        }
      ]
    },
    {
      "cell_type": "markdown",
      "metadata": {
        "id": "hYQB4gzhp83B"
      },
      "source": [
        "Since the purpose of our model is to respond only to real disaster news, we would classify real tweets as 1 and fake tweets as 0. We verified the dataset and the target variable named as \"target\" in our dataset is already classified in the way we desired."
      ]
    },
    {
      "cell_type": "code",
      "metadata": {
        "colab": {
          "base_uri": "https://localhost:8080/"
        },
        "id": "thrQrsUEHH-v",
        "outputId": "f39b9ada-b6d0-4302-9def-8f3112ec0c2e"
      },
      "source": [
        "\n",
        "#determining total records in our dataframe\n",
        "df.shape"
      ],
      "execution_count": null,
      "outputs": [
        {
          "output_type": "execute_result",
          "data": {
            "text/plain": [
              "(11370, 2)"
            ]
          },
          "metadata": {},
          "execution_count": 8
        }
      ]
    },
    {
      "cell_type": "code",
      "metadata": {
        "colab": {
          "base_uri": "https://localhost:8080/",
          "height": 282
        },
        "id": "IZyhXBFzGfme",
        "outputId": "360d9095-4847-4d9c-9dde-27b8206f5112"
      },
      "source": [
        "#accessing label class distribution\n",
        "df.target.hist()\n",
        "\n",
        "print('positive label proportion: ', df.target.mean())"
      ],
      "execution_count": null,
      "outputs": [
        {
          "output_type": "stream",
          "name": "stdout",
          "text": [
            "positive label proportion:  0.1859278803869833\n"
          ]
        },
        {
          "output_type": "display_data",
          "data": {
            "image/png": "[encoded data removed]",
            "text/plain": [
              "<Figure size 432x288 with 1 Axes>"
            ]
          },
          "metadata": {
            "needs_background": "light"
          }
        }
      ]
    },
    {
      "cell_type": "markdown",
      "metadata": {
        "id": "FM-C2imaHqPg"
      },
      "source": [
        "From above histogram, we can see that around 18% of the tweets in the dataset were real disaster related. There are just over 11,000 reviews for the product and approximately 2,100 of those are disaster related that concerns the emergency responders and society."
      ]
    },
    {
      "cell_type": "markdown",
      "metadata": {
        "id": "PspQ9_EC1Yiu"
      },
      "source": [
        "## 3. Model Creation"
      ]
    },
    {
      "cell_type": "markdown",
      "source": [
        "### Naive Bayes, Logistic Regression, Decision Tree, Random Forest, Boosted Tree, and ANN"
      ],
      "metadata": {
        "id": "D696vonzRww7"
      }
    },
    {
      "cell_type": "code",
      "metadata": {
        "colab": {
          "base_uri": "https://localhost:8080/",
          "height": 206
        },
        "id": "3gh-sQ5pL4Sg",
        "outputId": "8bb10fe1-e9d1-4ed2-acee-f73477ea995e"
      },
      "source": [
        "#converting reviews into lower case\n",
        "df.text = df.text.str.lower()\n",
        "\n",
        "#checking dataframe\n",
        "df.head()"
      ],
      "execution_count": null,
      "outputs": [
        {
          "output_type": "execute_result",
          "data": {
            "text/html": [
              "\n",
              "  <div id=\"df-e22b4ae2-93d8-4e41-8b7c-3d54e43f5204\">\n",
              "    <div class=\"colab-df-container\">\n",
              "      <div>\n",
              "<style scoped>\n",
              "    .dataframe tbody tr th:only-of-type {\n",
              "        vertical-align: middle;\n",
              "    }\n",
              "\n",
              "    .dataframe tbody tr th {\n",
              "        vertical-align: top;\n",
              "    }\n",
              "\n",
              "    .dataframe thead th {\n",
              "        text-align: right;\n",
              "    }\n",
              "</style>\n",
              "<table border=\"1\" class=\"dataframe\">\n",
              "  <thead>\n",
              "    <tr style=\"text-align: right;\">\n",
              "      <th></th>\n",
              "      <th>text</th>\n",
              "      <th>target</th>\n",
              "    </tr>\n",
              "  </thead>\n",
              "  <tbody>\n",
              "    <tr>\n",
              "      <th>0</th>\n",
              "      <td>communal violence in bhainsa, telangana. \"ston...</td>\n",
              "      <td>1</td>\n",
              "    </tr>\n",
              "    <tr>\n",
              "      <th>1</th>\n",
              "      <td>telangana: section 144 has been imposed in bha...</td>\n",
              "      <td>1</td>\n",
              "    </tr>\n",
              "    <tr>\n",
              "      <th>2</th>\n",
              "      <td>arsonist sets cars ablaze at dealership https:...</td>\n",
              "      <td>1</td>\n",
              "    </tr>\n",
              "    <tr>\n",
              "      <th>3</th>\n",
              "      <td>arsonist sets cars ablaze at dealership https:...</td>\n",
              "      <td>1</td>\n",
              "    </tr>\n",
              "    <tr>\n",
              "      <th>4</th>\n",
              "      <td>\"lord jesus, your love brings freedom and pard...</td>\n",
              "      <td>0</td>\n",
              "    </tr>\n",
              "  </tbody>\n",
              "</table>\n",
              "</div>\n",
              "      <button class=\"colab-df-convert\" onclick=\"convertToInteractive('df-e22b4ae2-93d8-4e41-8b7c-3d54e43f5204')\"\n",
              "              title=\"Convert this dataframe to an interactive table.\"\n",
              "              style=\"display:none;\">\n",
              "        \n",
              "  <svg xmlns=\"http://www.w3.org/2000/svg\" height=\"24px\"viewBox=\"0 0 24 24\"\n",
              "       width=\"24px\">\n",
              "    <path d=\"M0 0h24v24H0V0z\" fill=\"none\"/>\n",
              "    <path d=\"M18.56 5.44l.94 2.06.94-2.06 2.06-.94-2.06-.94-.94-2.06-.94 2.06-2.06.94zm-11 1L8.5 8.5l.94-2.06 2.06-.94-2.06-.94L8.5 2.5l-.94 2.06-2.06.94zm10 10l.94 2.06.94-2.06 2.06-.94-2.06-.94-.94-2.06-.94 2.06-2.06.94z\"/><path d=\"M17.41 7.96l-1.37-1.37c-.4-.4-.92-.59-1.43-.59-.52 0-1.04.2-1.43.59L10.3 9.45l-7.72 7.72c-.78.78-.78 2.05 0 2.83L4 21.41c.39.39.9.59 1.41.59.51 0 1.02-.2 1.41-.59l7.78-7.78 2.81-2.81c.8-.78.8-2.07 0-2.86zM5.41 20L4 18.59l7.72-7.72 1.47 1.35L5.41 20z\"/>\n",
              "  </svg>\n",
              "      </button>\n",
              "      \n",
              "  <style>\n",
              "    .colab-df-container {\n",
              "      display:flex;\n",
              "      flex-wrap:wrap;\n",
              "      gap: 12px;\n",
              "    }\n",
              "\n",
              "    .colab-df-convert {\n",
              "      background-color: #E8F0FE;\n",
              "      border: none;\n",
              "      border-radius: 50%;\n",
              "      cursor: pointer;\n",
              "      display: none;\n",
              "      fill: #1967D2;\n",
              "      height: 32px;\n",
              "      padding: 0 0 0 0;\n",
              "      width: 32px;\n",
              "    }\n",
              "\n",
              "    .colab-df-convert:hover {\n",
              "      background-color: #E2EBFA;\n",
              "      box-shadow: 0px 1px 2px rgba(60, 64, 67, 0.3), 0px 1px 3px 1px rgba(60, 64, 67, 0.15);\n",
              "      fill: #174EA6;\n",
              "    }\n",
              "\n",
              "    [theme=dark] .colab-df-convert {\n",
              "      background-color: #3B4455;\n",
              "      fill: #D2E3FC;\n",
              "    }\n",
              "\n",
              "    [theme=dark] .colab-df-convert:hover {\n",
              "      background-color: #434B5C;\n",
              "      box-shadow: 0px 1px 3px 1px rgba(0, 0, 0, 0.15);\n",
              "      filter: drop-shadow(0px 1px 2px rgba(0, 0, 0, 0.3));\n",
              "      fill: #FFFFFF;\n",
              "    }\n",
              "  </style>\n",
              "\n",
              "      <script>\n",
              "        const buttonEl =\n",
              "          document.querySelector('#df-e22b4ae2-93d8-4e41-8b7c-3d54e43f5204 button.colab-df-convert');\n",
              "        buttonEl.style.display =\n",
              "          google.colab.kernel.accessAllowed ? 'block' : 'none';\n",
              "\n",
              "        async function convertToInteractive(key) {\n",
              "          const element = document.querySelector('#df-e22b4ae2-93d8-4e41-8b7c-3d54e43f5204');\n",
              "          const dataTable =\n",
              "            await google.colab.kernel.invokeFunction('convertToInteractive',\n",
              "                                                     [key], {});\n",
              "          if (!dataTable) return;\n",
              "\n",
              "          const docLinkHtml = 'Like what you see? Visit the ' +\n",
              "            '<a target=\"_blank\" href=https://colab.research.google.com/notebooks/data_table.ipynb>data table notebook</a>'\n",
              "            + ' to learn more about interactive tables.';\n",
              "          element.innerHTML = '';\n",
              "          dataTable['output_type'] = 'display_data';\n",
              "          await google.colab.output.renderOutput(dataTable, element);\n",
              "          const docLink = document.createElement('div');\n",
              "          docLink.innerHTML = docLinkHtml;\n",
              "          element.appendChild(docLink);\n",
              "        }\n",
              "      </script>\n",
              "    </div>\n",
              "  </div>\n",
              "  "
            ],
            "text/plain": [
              "                                                text  target\n",
              "0  communal violence in bhainsa, telangana. \"ston...       1\n",
              "1  telangana: section 144 has been imposed in bha...       1\n",
              "2  arsonist sets cars ablaze at dealership https:...       1\n",
              "3  arsonist sets cars ablaze at dealership https:...       1\n",
              "4  \"lord jesus, your love brings freedom and pard...       0"
            ]
          },
          "metadata": {},
          "execution_count": 10
        }
      ]
    },
    {
      "cell_type": "code",
      "metadata": {
        "colab": {
          "base_uri": "https://localhost:8080/"
        },
        "id": "wZoMS6RCTexX",
        "outputId": "c5133771-7f33-4294-ec39-b3f1c460c0d0"
      },
      "source": [
        "#checking if we have any blanks in df as CountVectorizer does not support NaN\n",
        "df.isna().sum()"
      ],
      "execution_count": null,
      "outputs": [
        {
          "output_type": "execute_result",
          "data": {
            "text/plain": [
              "text      0\n",
              "target    0\n",
              "dtype: int64"
            ]
          },
          "metadata": {},
          "execution_count": 11
        }
      ]
    },
    {
      "cell_type": "code",
      "metadata": {
        "id": "sGo1pcSeDDDv"
      },
      "source": [
        "#importing sklearn data partition package\n",
        "from sklearn.model_selection import train_test_split\n",
        "\n",
        "#partitioning dataset into training and testing set\n",
        "X = df.text\n",
        "y = df.target\n",
        "\n",
        "X_train, X_test, y_train, y_test = train_test_split(X,y,test_size = 0.33, random_state = 121)"
      ],
      "execution_count": null,
      "outputs": []
    },
    {
      "cell_type": "code",
      "source": [
        "#importing pipeline and classifiers\n",
        "#Pipeline\n",
        "from sklearn.pipeline import Pipeline\n",
        "from sklearn.feature_extraction.text import CountVectorizer\n",
        "from sklearn.feature_extraction.text import TfidfTransformer\n",
        "\n",
        "#Classifiers\n",
        "from sklearn.naive_bayes import MultinomialNB, ComplementNB\n",
        "from sklearn.linear_model import LogisticRegression\n",
        "from sklearn.svm import SVC\n",
        "from sklearn.tree import DecisionTreeClassifier\n",
        "from sklearn.ensemble import RandomForestClassifier, AdaBoostClassifier\n",
        "from sklearn.neural_network import MLPClassifier\n",
        "\n",
        "#importing sklearn's model performance packages\n",
        "from sklearn.metrics import classification_report, recall_score, precision_score, f1_score, roc_curve, auc, precision_recall_curve"
      ],
      "metadata": {
        "id": "5ch3RV69Nrni"
      },
      "execution_count": null,
      "outputs": []
    },
    {
      "cell_type": "code",
      "metadata": {
        "id": "GKoFAUIKqlJB"
      },
      "source": [
        "#List of models to be built\n",
        "names = ['Multinomial Naive Bayes', 'Complement Naive Bayes','Logistic Regression', 'SVM', 'Decision Tree','Random Forest','Boosted Tree', 'ANN']\n",
        "\n",
        "#defining corresponding list of classifiers in the list of models\n",
        "classifiers = [MultinomialNB(),\n",
        "               ComplementNB(),\n",
        "               LogisticRegression(),\n",
        "               SVC(probability = True),\n",
        "               DecisionTreeClassifier(max_depth=5),\n",
        "               RandomForestClassifier(max_depth=5, n_estimators=10),\n",
        "               AdaBoostClassifier(),\n",
        "               MLPClassifier(alpha=1,max_iter=1000)\n",
        "               ]"
      ],
      "execution_count": null,
      "outputs": []
    },
    {
      "cell_type": "code",
      "metadata": {
        "colab": {
          "base_uri": "https://localhost:8080/"
        },
        "id": "zZZcAi9enebT",
        "outputId": "ec242a51-9c00-4895-876a-797155cc440b"
      },
      "source": [
        "#iterating through the list of models\n",
        "#excluding english stopwords and developing TFDIF transformed feature representation using Pipeline\n",
        "\n",
        "for name,clf in zip(names,classifiers):\n",
        "  clf_pipe = Pipeline([\n",
        "                       ('vect',CountVectorizer(stop_words = {'english'})),\n",
        "                       ('tfidf',TfidfTransformer()),\n",
        "                       (name,clf),\n",
        "  ])\n",
        "\n",
        "  #\"clf_pipe\" pipeline is using all the required models. Therefore, we can fit our training dataset in the pipeline to develop classification models\n",
        "\n",
        "  #developing classification models\n",
        "  clf_pipe.fit(X_train,y_train)\n",
        "\n",
        "  #supplying test dataset to evaluate model performance\n",
        "  pred = clf_pipe.predict(X_test)\n",
        "  pred_prob = clf_pipe.predict_proba(X_test)[:,1]\n",
        "\n",
        "  ##evaluating model performance\n",
        "\n",
        "  #calculating other performance metrices\n",
        "  fpr, tpr, thresholds = roc_curve(y_test, pred_prob)\n",
        "  precision, recall, thresholds_pr = precision_recall_curve(y_test, pred)\n",
        "\n",
        "  #printing classification report and performance results\n",
        "  print('\\n\\n', name, '\\n\\n')\n",
        "  print(classification_report(y_test,pred))\n",
        "  print('ROC AUC: ',auc(fpr,tpr))\n",
        "  print('Precision/Recall AUC: ', auc(precision,recall))\n",
        "  print('\\n\\n')"
      ],
      "execution_count": null,
      "outputs": [
        {
          "output_type": "stream",
          "name": "stdout",
          "text": [
            "\n",
            "\n",
            " Multinomial Naive Bayes \n",
            "\n",
            "\n",
            "              precision    recall  f1-score   support\n",
            "\n",
            "           0       0.84      1.00      0.91      3063\n",
            "           1       0.98      0.14      0.24       690\n",
            "\n",
            "    accuracy                           0.84      3753\n",
            "   macro avg       0.91      0.57      0.58      3753\n",
            "weighted avg       0.86      0.84      0.79      3753\n",
            "\n",
            "ROC AUC:  0.8538439154565715\n",
            "Precision/Recall AUC:  0.4532495018477971\n",
            "\n",
            "\n",
            "\n",
            "\n",
            "\n",
            " Complement Naive Bayes \n",
            "\n",
            "\n",
            "              precision    recall  f1-score   support\n",
            "\n",
            "           0       0.89      0.98      0.93      3063\n",
            "           1       0.81      0.44      0.57       690\n",
            "\n",
            "    accuracy                           0.88      3753\n",
            "   macro avg       0.85      0.71      0.75      3753\n",
            "weighted avg       0.87      0.88      0.86      3753\n",
            "\n",
            "ROC AUC:  0.8538439154565715\n",
            "Precision/Recall AUC:  0.49403898096447296\n",
            "\n",
            "\n",
            "\n",
            "\n",
            "\n",
            " Logistic Regression \n",
            "\n",
            "\n",
            "              precision    recall  f1-score   support\n",
            "\n",
            "           0       0.88      0.99      0.93      3063\n",
            "           1       0.87      0.38      0.53       690\n",
            "\n",
            "    accuracy                           0.88      3753\n",
            "   macro avg       0.87      0.68      0.73      3753\n",
            "weighted avg       0.88      0.88      0.86      3753\n",
            "\n",
            "ROC AUC:  0.8907396367111905\n",
            "Precision/Recall AUC:  0.49841655279895075\n",
            "\n",
            "\n",
            "\n",
            "\n",
            "\n",
            " SVM \n",
            "\n",
            "\n",
            "              precision    recall  f1-score   support\n",
            "\n",
            "           0       0.89      0.99      0.94      3063\n",
            "           1       0.90      0.46      0.61       690\n",
            "\n",
            "    accuracy                           0.89      3753\n",
            "   macro avg       0.89      0.72      0.77      3753\n",
            "weighted avg       0.89      0.89      0.88      3753\n",
            "\n",
            "ROC AUC:  0.9070367689155749\n",
            "Precision/Recall AUC:  0.5445593043157952\n",
            "\n",
            "\n",
            "\n",
            "\n",
            "\n",
            " Decision Tree \n",
            "\n",
            "\n",
            "              precision    recall  f1-score   support\n",
            "\n",
            "           0       0.83      0.99      0.91      3063\n",
            "           1       0.82      0.11      0.20       690\n",
            "\n",
            "    accuracy                           0.83      3753\n",
            "   macro avg       0.83      0.55      0.55      3753\n",
            "weighted avg       0.83      0.83      0.78      3753\n",
            "\n",
            "ROC AUC:  0.6419837991549442\n",
            "Precision/Recall AUC:  0.36472990943629535\n",
            "\n",
            "\n",
            "\n",
            "\n",
            "\n",
            " Random Forest \n",
            "\n",
            "\n",
            "              precision    recall  f1-score   support\n",
            "\n",
            "           0       0.82      1.00      0.90      3063\n",
            "           1       0.00      0.00      0.00       690\n",
            "\n",
            "    accuracy                           0.82      3753\n",
            "   macro avg       0.41      0.50      0.45      3753\n",
            "weighted avg       0.67      0.82      0.73      3753\n",
            "\n",
            "ROC AUC:  0.6861720298845029\n",
            "Precision/Recall AUC:  0.40807354116706634\n",
            "\n",
            "\n",
            "\n"
          ]
        },
        {
          "output_type": "stream",
          "name": "stderr",
          "text": [
            "/usr/local/lib/python3.7/dist-packages/sklearn/metrics/_classification.py:1308: UndefinedMetricWarning: Precision and F-score are ill-defined and being set to 0.0 in labels with no predicted samples. Use `zero_division` parameter to control this behavior.\n",
            "  _warn_prf(average, modifier, msg_start, len(result))\n",
            "/usr/local/lib/python3.7/dist-packages/sklearn/metrics/_classification.py:1308: UndefinedMetricWarning: Precision and F-score are ill-defined and being set to 0.0 in labels with no predicted samples. Use `zero_division` parameter to control this behavior.\n",
            "  _warn_prf(average, modifier, msg_start, len(result))\n",
            "/usr/local/lib/python3.7/dist-packages/sklearn/metrics/_classification.py:1308: UndefinedMetricWarning: Precision and F-score are ill-defined and being set to 0.0 in labels with no predicted samples. Use `zero_division` parameter to control this behavior.\n",
            "  _warn_prf(average, modifier, msg_start, len(result))\n"
          ]
        },
        {
          "output_type": "stream",
          "name": "stdout",
          "text": [
            "\n",
            "\n",
            " Boosted Tree \n",
            "\n",
            "\n",
            "              precision    recall  f1-score   support\n",
            "\n",
            "           0       0.87      0.95      0.91      3063\n",
            "           1       0.63      0.36      0.46       690\n",
            "\n",
            "    accuracy                           0.84      3753\n",
            "   macro avg       0.75      0.66      0.69      3753\n",
            "weighted avg       0.83      0.84      0.83      3753\n",
            "\n",
            "ROC AUC:  0.803185756126181\n",
            "Precision/Recall AUC:  0.37184431756903125\n",
            "\n",
            "\n",
            "\n",
            "\n",
            "\n",
            " ANN \n",
            "\n",
            "\n",
            "              precision    recall  f1-score   support\n",
            "\n",
            "           0       0.84      1.00      0.91      3063\n",
            "           1       0.95      0.13      0.24       690\n",
            "\n",
            "    accuracy                           0.84      3753\n",
            "   macro avg       0.89      0.57      0.57      3753\n",
            "weighted avg       0.86      0.84      0.79      3753\n",
            "\n",
            "ROC AUC:  0.8730705900722509\n",
            "Precision/Recall AUC:  0.43756455350360346\n",
            "\n",
            "\n",
            "\n"
          ]
        }
      ]
    },
    {
      "cell_type": "markdown",
      "source": [
        "### LSTM Based Model with an Embedding Layer"
      ],
      "metadata": {
        "id": "IE91oZ2XzQSU"
      }
    },
    {
      "cell_type": "code",
      "metadata": {
        "id": "DiGVLCsV7liI"
      },
      "source": [
        "#importing dependencies\n",
        "\n",
        "import pandas as pd\n",
        "\n",
        "from keras.preprocessing.text import Tokenizer\n",
        "from keras.preprocessing.sequence import pad_sequences\n",
        "from keras.models import Sequential\n",
        "from keras.layers import Dense, Flatten, LSTM, Conv1D, GlobalMaxPooling1D, Dropout, Activation\n",
        "from keras.layers import Input, TextVectorization\n",
        "from keras.callbacks import *\n",
        "from keras.metrics import * \n",
        "from keras.backend import clear_session\n",
        "from keras.layers.embeddings import Embedding\n",
        "from keras.initializers import Constant\n",
        "\n",
        "import spacy"
      ],
      "execution_count": null,
      "outputs": []
    },
    {
      "cell_type": "code",
      "metadata": {
        "id": "5xWY9nTfLE7l"
      },
      "source": [
        "tokenizer = Tokenizer()\n",
        "\n",
        "#preparing vocabulary\n",
        "tokenizer.fit_on_texts(list(X_train))\n",
        "\n",
        "#converting text into integer sequences\n",
        "X_train_seq = tokenizer.texts_to_sequences(X_train)\n",
        "X_test_seq = tokenizer.texts_to_sequences(X_test)\n",
        "\n",
        "#padding to prepare sequences of same length\n",
        "X_train_seq = pad_sequences(X_train_seq, maxlen=100)\n",
        "X_test_seq = pad_sequences(X_test_seq,maxlen=100)"
      ],
      "execution_count": null,
      "outputs": []
    },
    {
      "cell_type": "code",
      "metadata": {
        "colab": {
          "base_uri": "https://localhost:8080/"
        },
        "id": "Cx9OAlN_MgQ2",
        "outputId": "48a285bf-37a4-436d-83a0-f5261225b34d"
      },
      "source": [
        "#detemining the size of vocabulary in the training dataset\n",
        "size_of_vocabulary = len(tokenizer.word_index) + 1\n",
        "print(size_of_vocabulary)"
      ],
      "execution_count": null,
      "outputs": [
        {
          "output_type": "stream",
          "name": "stdout",
          "text": [
            "23709\n"
          ]
        }
      ]
    },
    {
      "cell_type": "code",
      "metadata": {
        "id": "u4uPgMdaM0Np"
      },
      "source": [
        "#defining the metric that needs to be calculated\n",
        "METRICS = [\n",
        "           TruePositives(name='tp'),\n",
        "           FalsePositives(name='fp'),\n",
        "           TrueNegatives(name='tn'),\n",
        "           FalseNegatives(name='fn'),\n",
        "           BinaryAccuracy(name='accuracy'),\n",
        "           Precision(name='precision'),\n",
        "           Recall(name='recall'),\n",
        "           AUC(name='auc'),\n",
        "           AUC(name='prc', curve='PR'),\n",
        "]"
      ],
      "execution_count": null,
      "outputs": []
    },
    {
      "cell_type": "code",
      "metadata": {
        "colab": {
          "base_uri": "https://localhost:8080/"
        },
        "id": "0Twj1_JYMcjQ",
        "outputId": "7c9c0f97-d874-45e9-f743-3f6999b96902"
      },
      "source": [
        "#defining the LSTM-based model\n",
        "\n",
        "#clearing session to clear previous model data\n",
        "clear_session()\n",
        "\n",
        "#defining sequential model\n",
        "model = Sequential()\n",
        "\n",
        "#embedding layer\n",
        "model.add(Embedding(size_of_vocabulary,300,input_length=100,trainable=True))\n",
        "\n",
        "#lstm layer\n",
        "model.add(LSTM(128,return_sequences=True, dropout=0.2))\n",
        "\n",
        "#Global Maxpooling\n",
        "model.add(GlobalMaxPooling1D())\n",
        "\n",
        "#Dense Layer\n",
        "model.add(Dense(64,activation='relu'))\n",
        "model.add(Dense(1,activation='sigmoid'))\n",
        "\n",
        "#Add loss function, metrics, optimizer\n",
        "model.compile(optimizer='adam', loss='binary_crossentropy',metrics = METRICS )\n",
        "\n",
        "#Adding callbacks\n",
        "es = EarlyStopping(monitor='val_loss', mode='min', verbose=1, patience=3)\n",
        "mc = ModelCheckpoint('best_model', monitor='val_loss', mode = 'min', save_best_only=True,save_weights_only=False, verbose=1)\n",
        "\n",
        "#Printing summary of model\n",
        "print(model.summary())"
      ],
      "execution_count": null,
      "outputs": [
        {
          "output_type": "stream",
          "name": "stdout",
          "text": [
            "Model: \"sequential\"\n",
            "_________________________________________________________________\n",
            " Layer (type)                Output Shape              Param #   \n",
            "=================================================================\n",
            " embedding (Embedding)       (None, 100, 300)          7112700   \n",
            "                                                                 \n",
            " lstm (LSTM)                 (None, 100, 128)          219648    \n",
            "                                                                 \n",
            " global_max_pooling1d (Globa  (None, 128)              0         \n",
            " lMaxPooling1D)                                                  \n",
            "                                                                 \n",
            " dense (Dense)               (None, 64)                8256      \n",
            "                                                                 \n",
            " dense_1 (Dense)             (None, 1)                 65        \n",
            "                                                                 \n",
            "=================================================================\n",
            "Total params: 7,340,669\n",
            "Trainable params: 7,340,669\n",
            "Non-trainable params: 0\n",
            "_________________________________________________________________\n",
            "None\n"
          ]
        }
      ]
    },
    {
      "cell_type": "code",
      "metadata": {
        "colab": {
          "base_uri": "https://localhost:8080/"
        },
        "id": "HINPrPzxSejP",
        "outputId": "5fc8c560-36e7-4ed0-db64-dd3901d4c181"
      },
      "source": [
        "#fitting model to the dataframe\n",
        "history = model.fit(np.array(X_train_seq),np.array(y_train),batch_size=128,epochs=10,\n",
        "                    validation_data=(np.array(X_test_seq),np.array(y_test)),verbose=1, callbacks=[es,mc])"
      ],
      "execution_count": null,
      "outputs": [
        {
          "output_type": "stream",
          "name": "stdout",
          "text": [
            "Epoch 1/10\n",
            "59/60 [============================>.] - ETA: 0s - loss: 0.4969 - tp: 16.0000 - fp: 90.0000 - tn: 6049.0000 - fn: 1397.0000 - accuracy: 0.8031 - precision: 0.1509 - recall: 0.0113 - auc: 0.5294 - prc: 0.1968\n",
            "Epoch 00001: val_loss improved from inf to 0.44426, saving model to best_model\n"
          ]
        },
        {
          "output_type": "stream",
          "name": "stderr",
          "text": [
            "WARNING:absl:Found untraced functions such as lstm_cell_layer_call_fn, lstm_cell_layer_call_and_return_conditional_losses, lstm_cell_layer_call_fn, lstm_cell_layer_call_and_return_conditional_losses, lstm_cell_layer_call_and_return_conditional_losses while saving (showing 5 of 5). These functions will not be directly callable after loading.\n"
          ]
        },
        {
          "output_type": "stream",
          "name": "stdout",
          "text": [
            "INFO:tensorflow:Assets written to: best_model/assets\n"
          ]
        },
        {
          "output_type": "stream",
          "name": "stderr",
          "text": [
            "INFO:tensorflow:Assets written to: best_model/assets\n",
            "WARNING:absl:<keras.layers.recurrent.LSTMCell object at 0x7f1a95508190> has the same name 'LSTMCell' as a built-in Keras object. Consider renaming <class 'keras.layers.recurrent.LSTMCell'> to avoid naming conflicts when loading with `tf.keras.models.load_model`. If renaming is not possible, pass the object in the `custom_objects` parameter of the load function.\n"
          ]
        },
        {
          "output_type": "stream",
          "name": "stdout",
          "text": [
            "\b\b\b\b\b\b\b\b\b\b\b\b\b\b\b\b\b\b\b\b\b\b\b\b\b\b\b\b\b\b\b\b\b\b\b\b\b\b\b\b\b\b\b\b\b\b\b\b\b\b\b\b\b\b\b\b\b\b\b\b\b\b\b\b\b\b\b\b\b\b\b\b\b\b\b\b\b\b\b\b\b\b\b\b\b\b\b\b\b\b\b\b\b\b\b\b\b\b\b\b\b\b\b\b\b\b\b\b\b\b\b\b\b\b\b\b\b\b\b\b\b\b\b\b\b\b\b\b\b\b\b\b\b\b\b\b\b\b\b\b\b\b\b\b\b\b\b\b\b\b\b\b\b\b\b\b\b\b\b\b\b\b\b\b\b\b\b\b\b\b\b\b\b\b\b\b\b\b\b\b\b\b\b\b\b\b\b\b\b\b\b\b\b\b\b\b\b\b\b\b\b\b\b\b\b\b\b\r60/60 [==============================] - 21s 207ms/step - loss: 0.4964 - tp: 16.0000 - fp: 90.0000 - tn: 6103.0000 - fn: 1408.0000 - accuracy: 0.8033 - precision: 0.1509 - recall: 0.0112 - auc: 0.5312 - prc: 0.1974 - val_loss: 0.4443 - val_tp: 0.0000e+00 - val_fp: 0.0000e+00 - val_tn: 3063.0000 - val_fn: 690.0000 - val_accuracy: 0.8161 - val_precision: 0.0000e+00 - val_recall: 0.0000e+00 - val_auc: 0.8176 - val_prc: 0.5740\n",
            "Epoch 2/10\n",
            "60/60 [==============================] - ETA: 0s - loss: 0.3143 - tp: 545.0000 - fp: 111.0000 - tn: 6082.0000 - fn: 879.0000 - accuracy: 0.8700 - precision: 0.8308 - recall: 0.3827 - auc: 0.8811 - prc: 0.6970\n",
            "Epoch 00002: val_loss improved from 0.44426 to 0.29177, saving model to best_model\n"
          ]
        },
        {
          "output_type": "stream",
          "name": "stderr",
          "text": [
            "WARNING:absl:Found untraced functions such as lstm_cell_layer_call_fn, lstm_cell_layer_call_and_return_conditional_losses, lstm_cell_layer_call_fn, lstm_cell_layer_call_and_return_conditional_losses, lstm_cell_layer_call_and_return_conditional_losses while saving (showing 5 of 5). These functions will not be directly callable after loading.\n"
          ]
        },
        {
          "output_type": "stream",
          "name": "stdout",
          "text": [
            "INFO:tensorflow:Assets written to: best_model/assets\n"
          ]
        },
        {
          "output_type": "stream",
          "name": "stderr",
          "text": [
            "INFO:tensorflow:Assets written to: best_model/assets\n",
            "WARNING:absl:<keras.layers.recurrent.LSTMCell object at 0x7f1a95508190> has the same name 'LSTMCell' as a built-in Keras object. Consider renaming <class 'keras.layers.recurrent.LSTMCell'> to avoid naming conflicts when loading with `tf.keras.models.load_model`. If renaming is not possible, pass the object in the `custom_objects` parameter of the load function.\n"
          ]
        },
        {
          "output_type": "stream",
          "name": "stdout",
          "text": [
            "60/60 [==============================] - 11s 178ms/step - loss: 0.3143 - tp: 545.0000 - fp: 111.0000 - tn: 6082.0000 - fn: 879.0000 - accuracy: 0.8700 - precision: 0.8308 - recall: 0.3827 - auc: 0.8811 - prc: 0.6970 - val_loss: 0.2918 - val_tp: 477.0000 - val_fp: 224.0000 - val_tn: 2839.0000 - val_fn: 213.0000 - val_accuracy: 0.8836 - val_precision: 0.6805 - val_recall: 0.6913 - val_auc: 0.9005 - val_prc: 0.7574\n",
            "Epoch 3/10\n",
            "59/60 [============================>.] - ETA: 0s - loss: 0.1332 - tp: 1212.0000 - fp: 144.0000 - tn: 5996.0000 - fn: 200.0000 - accuracy: 0.9544 - precision: 0.8938 - recall: 0.8584 - auc: 0.9773 - prc: 0.9344\n",
            "Epoch 00003: val_loss did not improve from 0.29177\n",
            "60/60 [==============================] - 3s 51ms/step - loss: 0.1334 - tp: 1222.0000 - fp: 147.0000 - tn: 6046.0000 - fn: 202.0000 - accuracy: 0.9542 - precision: 0.8926 - recall: 0.8581 - auc: 0.9773 - prc: 0.9344 - val_loss: 0.3129 - val_tp: 402.0000 - val_fp: 97.0000 - val_tn: 2966.0000 - val_fn: 288.0000 - val_accuracy: 0.8974 - val_precision: 0.8056 - val_recall: 0.5826 - val_auc: 0.8951 - val_prc: 0.7601\n",
            "Epoch 4/10\n",
            "60/60 [==============================] - ETA: 0s - loss: 0.0530 - tp: 1353.0000 - fp: 52.0000 - tn: 6141.0000 - fn: 71.0000 - accuracy: 0.9839 - precision: 0.9630 - recall: 0.9501 - auc: 0.9954 - prc: 0.9845\n",
            "Epoch 00004: val_loss did not improve from 0.29177\n",
            "60/60 [==============================] - 3s 52ms/step - loss: 0.0530 - tp: 1353.0000 - fp: 52.0000 - tn: 6141.0000 - fn: 71.0000 - accuracy: 0.9839 - precision: 0.9630 - recall: 0.9501 - auc: 0.9954 - prc: 0.9845 - val_loss: 0.3754 - val_tp: 463.0000 - val_fp: 207.0000 - val_tn: 2856.0000 - val_fn: 227.0000 - val_accuracy: 0.8844 - val_precision: 0.6910 - val_recall: 0.6710 - val_auc: 0.8872 - val_prc: 0.7505\n",
            "Epoch 5/10\n",
            "59/60 [============================>.] - ETA: 0s - loss: 0.0219 - tp: 1384.0000 - fp: 19.0000 - tn: 6123.0000 - fn: 26.0000 - accuracy: 0.9940 - precision: 0.9865 - recall: 0.9816 - auc: 0.9993 - prc: 0.9974\n",
            "Epoch 00005: val_loss did not improve from 0.29177\n",
            "60/60 [==============================] - 3s 52ms/step - loss: 0.0218 - tp: 1397.0000 - fp: 19.0000 - tn: 6174.0000 - fn: 27.0000 - accuracy: 0.9940 - precision: 0.9866 - recall: 0.9810 - auc: 0.9993 - prc: 0.9975 - val_loss: 0.4879 - val_tp: 422.0000 - val_fp: 161.0000 - val_tn: 2902.0000 - val_fn: 268.0000 - val_accuracy: 0.8857 - val_precision: 0.7238 - val_recall: 0.6116 - val_auc: 0.8573 - val_prc: 0.7125\n",
            "Epoch 00005: early stopping\n"
          ]
        }
      ]
    },
    {
      "cell_type": "code",
      "metadata": {
        "id": "duHcosRYT-Aq"
      },
      "source": [
        "#loading the saved best model\n",
        "from keras.models import load_model\n",
        "model = load_model('best_model')"
      ],
      "execution_count": null,
      "outputs": []
    },
    {
      "cell_type": "code",
      "metadata": {
        "colab": {
          "base_uri": "https://localhost:8080/"
        },
        "id": "G7CeJQmGWCjm",
        "outputId": "f864b7b9-b45b-4394-85c9-acdab3cb7d36"
      },
      "source": [
        "#accessing model performance\n",
        "\n",
        "model_results = model.evaluate(X_test_seq,y_test,batch_size=128,verbose=0)\n",
        "\n",
        "for name, value in zip(model.metrics_names, model_results):\n",
        "  print(name, \": \", value)"
      ],
      "execution_count": null,
      "outputs": [
        {
          "output_type": "stream",
          "name": "stdout",
          "text": [
            "loss :  0.29177019000053406\n",
            "tp :  477.0\n",
            "fp :  224.0\n",
            "tn :  2839.0\n",
            "fn :  213.0\n",
            "accuracy :  0.8835598230361938\n",
            "precision :  0.6804565191268921\n",
            "recall :  0.6913043260574341\n",
            "auc :  0.9005115032196045\n",
            "prc :  0.7574114203453064\n"
          ]
        }
      ]
    },
    {
      "cell_type": "markdown",
      "source": [
        "### LSTM-based model using GloVe pre-trained embedding from SpaCy"
      ],
      "metadata": {
        "id": "oIG1ifDDzwLM"
      }
    },
    {
      "cell_type": "code",
      "metadata": {
        "colab": {
          "base_uri": "https://localhost:8080/"
        },
        "id": "j79cw58rXMe2",
        "outputId": "3902434f-4663-4ace-8bb3-531c2444c73f"
      },
      "source": [
        "#downloading the large model form Spacy\n",
        "!python -m spacy download en_core_web_lg"
      ],
      "execution_count": null,
      "outputs": [
        {
          "output_type": "stream",
          "name": "stdout",
          "text": [
            "Collecting en_core_web_lg==2.2.5\n",
            "  Downloading https://github.com/explosion/spacy-models/releases/download/en_core_web_lg-2.2.5/en_core_web_lg-2.2.5.tar.gz (827.9 MB)\n",
            "\u001b[K     |████████████████████████████████| 827.9 MB 1.5 MB/s \n",
            "\u001b[?25hRequirement already satisfied: spacy>=2.2.2 in /usr/local/lib/python3.7/dist-packages (from en_core_web_lg==2.2.5) (2.2.4)\n",
            "Requirement already satisfied: wasabi<1.1.0,>=0.4.0 in /usr/local/lib/python3.7/dist-packages (from spacy>=2.2.2->en_core_web_lg==2.2.5) (0.8.2)\n",
            "Requirement already satisfied: tqdm<5.0.0,>=4.38.0 in /usr/local/lib/python3.7/dist-packages (from spacy>=2.2.2->en_core_web_lg==2.2.5) (4.62.3)\n",
            "Requirement already satisfied: numpy>=1.15.0 in /usr/local/lib/python3.7/dist-packages (from spacy>=2.2.2->en_core_web_lg==2.2.5) (1.19.5)\n",
            "Requirement already satisfied: catalogue<1.1.0,>=0.0.7 in /usr/local/lib/python3.7/dist-packages (from spacy>=2.2.2->en_core_web_lg==2.2.5) (1.0.0)\n",
            "Requirement already satisfied: requests<3.0.0,>=2.13.0 in /usr/local/lib/python3.7/dist-packages (from spacy>=2.2.2->en_core_web_lg==2.2.5) (2.23.0)\n",
            "Requirement already satisfied: setuptools in /usr/local/lib/python3.7/dist-packages (from spacy>=2.2.2->en_core_web_lg==2.2.5) (57.4.0)\n",
            "Requirement already satisfied: cymem<2.1.0,>=2.0.2 in /usr/local/lib/python3.7/dist-packages (from spacy>=2.2.2->en_core_web_lg==2.2.5) (2.0.6)\n",
            "Requirement already satisfied: preshed<3.1.0,>=3.0.2 in /usr/local/lib/python3.7/dist-packages (from spacy>=2.2.2->en_core_web_lg==2.2.5) (3.0.6)\n",
            "Requirement already satisfied: thinc==7.4.0 in /usr/local/lib/python3.7/dist-packages (from spacy>=2.2.2->en_core_web_lg==2.2.5) (7.4.0)\n",
            "Requirement already satisfied: murmurhash<1.1.0,>=0.28.0 in /usr/local/lib/python3.7/dist-packages (from spacy>=2.2.2->en_core_web_lg==2.2.5) (1.0.6)\n",
            "Requirement already satisfied: blis<0.5.0,>=0.4.0 in /usr/local/lib/python3.7/dist-packages (from spacy>=2.2.2->en_core_web_lg==2.2.5) (0.4.1)\n",
            "Requirement already satisfied: srsly<1.1.0,>=1.0.2 in /usr/local/lib/python3.7/dist-packages (from spacy>=2.2.2->en_core_web_lg==2.2.5) (1.0.5)\n",
            "Requirement already satisfied: plac<1.2.0,>=0.9.6 in /usr/local/lib/python3.7/dist-packages (from spacy>=2.2.2->en_core_web_lg==2.2.5) (1.1.3)\n",
            "Requirement already satisfied: importlib-metadata>=0.20 in /usr/local/lib/python3.7/dist-packages (from catalogue<1.1.0,>=0.0.7->spacy>=2.2.2->en_core_web_lg==2.2.5) (4.8.2)\n",
            "Requirement already satisfied: typing-extensions>=3.6.4 in /usr/local/lib/python3.7/dist-packages (from importlib-metadata>=0.20->catalogue<1.1.0,>=0.0.7->spacy>=2.2.2->en_core_web_lg==2.2.5) (3.10.0.2)\n",
            "Requirement already satisfied: zipp>=0.5 in /usr/local/lib/python3.7/dist-packages (from importlib-metadata>=0.20->catalogue<1.1.0,>=0.0.7->spacy>=2.2.2->en_core_web_lg==2.2.5) (3.6.0)\n",
            "Requirement already satisfied: idna<3,>=2.5 in /usr/local/lib/python3.7/dist-packages (from requests<3.0.0,>=2.13.0->spacy>=2.2.2->en_core_web_lg==2.2.5) (2.10)\n",
            "Requirement already satisfied: urllib3!=1.25.0,!=1.25.1,<1.26,>=1.21.1 in /usr/local/lib/python3.7/dist-packages (from requests<3.0.0,>=2.13.0->spacy>=2.2.2->en_core_web_lg==2.2.5) (1.24.3)\n",
            "Requirement already satisfied: certifi>=2017.4.17 in /usr/local/lib/python3.7/dist-packages (from requests<3.0.0,>=2.13.0->spacy>=2.2.2->en_core_web_lg==2.2.5) (2021.10.8)\n",
            "Requirement already satisfied: chardet<4,>=3.0.2 in /usr/local/lib/python3.7/dist-packages (from requests<3.0.0,>=2.13.0->spacy>=2.2.2->en_core_web_lg==2.2.5) (3.0.4)\n",
            "Building wheels for collected packages: en-core-web-lg\n",
            "  Building wheel for en-core-web-lg (setup.py) ... \u001b[?25l\u001b[?25hdone\n",
            "  Created wheel for en-core-web-lg: filename=en_core_web_lg-2.2.5-py3-none-any.whl size=829180942 sha256=057d1f2f99922f8979128555b4493a4f33aa2eca89f981c35852073c806212b1\n",
            "  Stored in directory: /tmp/pip-ephem-wheel-cache-qnnccnr0/wheels/11/95/ba/2c36cc368c0bd339b44a791c2c1881a1fb714b78c29a4cb8f5\n",
            "Successfully built en-core-web-lg\n",
            "Installing collected packages: en-core-web-lg\n",
            "Successfully installed en-core-web-lg-2.2.5\n",
            "\u001b[38;5;2m✔ Download and installation successful\u001b[0m\n",
            "You can now load the model via spacy.load('en_core_web_lg')\n"
          ]
        }
      ]
    },
    {
      "cell_type": "code",
      "metadata": {
        "id": "ErUibJbRXnLI"
      },
      "source": [
        "#importing language model, instantiating spaCy pipeling object and vectorizer\n",
        "import en_core_web_lg\n",
        "\n",
        "nlp = en_core_web_lg.load()\n",
        "Vectorizer = TextVectorization()"
      ],
      "execution_count": null,
      "outputs": []
    },
    {
      "cell_type": "code",
      "metadata": {
        "id": "yq_lsMSBYE0P"
      },
      "source": [
        "#Adapting vectorizer and loading embedding layer parameters\n",
        "Vectorizer.adapt(X_train.to_numpy())\n",
        "vocab = Vectorizer.get_vocabulary()\n",
        "\n",
        "#generating embedding matrix\n",
        "num_tokens = len(vocab)\n",
        "embedding_dim = len(nlp('The').vector)\n",
        "embedding_matrix = np.zeros((num_tokens, embedding_dim))\n",
        "for i, word in enumerate(vocab):\n",
        "  embedding_matrix[i] = nlp(str(word)).vector\n",
        "\n",
        "#Loading the embedding matrix as the weights matrix fot the embedding layer and setting trainable to False\n",
        "Embedding_layer=Embedding(\n",
        "    num_tokens,\n",
        "    embedding_dim,\n",
        "    embeddings_initializer=Constant(embedding_matrix),\n",
        "    trainable=False)"
      ],
      "execution_count": null,
      "outputs": []
    },
    {
      "cell_type": "code",
      "metadata": {
        "colab": {
          "base_uri": "https://localhost:8080/"
        },
        "id": "Ph-4BrvDbGt4",
        "outputId": "db22ac5c-e571-43d3-94d4-29eb7c3d7f7a"
      },
      "source": [
        "\n",
        "#defining model with custom vectorizer and pre-defined embedding layer using spaCy\n",
        "\n",
        "#clearing session to clear previous model data\n",
        "clear_session()\n",
        "\n",
        "model2 = Sequential()\n",
        "model2.add(Input(shape=(1,),dtype=tf.string))\n",
        "\n",
        "model2.add(Vectorizer)\n",
        "model2.add(Embedding_layer)\n",
        "\n",
        "#lstm layer\n",
        "model2.add(LSTM(128,return_sequences=True, dropout=0.2))\n",
        "\n",
        "#Global Maxpooling\n",
        "model2.add(GlobalMaxPooling1D())\n",
        "\n",
        "#Dense Layer\n",
        "model2.add(Dense(64,activation='relu'))\n",
        "model2.add(Dense(1,activation='sigmoid'))\n",
        "\n",
        "\n",
        "#Add loss function, metrics, optimizer\n",
        "model2.compile(optimizer='adam', loss='binary_crossentropy',metrics = METRICS )\n",
        "\n",
        "#Adding callbacks\n",
        "es = EarlyStopping(monitor='val_loss', mode='min', verbose=1, patience=3)\n",
        "mc = ModelCheckpoint('best_model2', monitor='val_loss', mode = 'min', save_best_only=True,save_weights_only=False, verbose=1)\n",
        "\n",
        "#Printing summary of model\n",
        "print(model2.summary())"
      ],
      "execution_count": null,
      "outputs": [
        {
          "output_type": "stream",
          "name": "stdout",
          "text": [
            "Model: \"sequential\"\n",
            "_________________________________________________________________\n",
            " Layer (type)                Output Shape              Param #   \n",
            "=================================================================\n",
            " text_vectorization (TextVec  (None, None)             0         \n",
            " torization)                                                     \n",
            "                                                                 \n",
            " embedding_1 (Embedding)     (None, None, 300)         7278900   \n",
            "                                                                 \n",
            " lstm (LSTM)                 (None, None, 128)         219648    \n",
            "                                                                 \n",
            " global_max_pooling1d (Globa  (None, 128)              0         \n",
            " lMaxPooling1D)                                                  \n",
            "                                                                 \n",
            " dense (Dense)               (None, 64)                8256      \n",
            "                                                                 \n",
            " dense_1 (Dense)             (None, 1)                 65        \n",
            "                                                                 \n",
            "=================================================================\n",
            "Total params: 7,506,869\n",
            "Trainable params: 227,969\n",
            "Non-trainable params: 7,278,900\n",
            "_________________________________________________________________\n",
            "None\n"
          ]
        }
      ]
    },
    {
      "cell_type": "code",
      "metadata": {
        "colab": {
          "base_uri": "https://localhost:8080/"
        },
        "id": "0otCbcj8dbBy",
        "outputId": "c49c9c02-2168-4954-a6ab-c7620ccfa9c1"
      },
      "source": [
        "#fitting model to the dataframe\n",
        "history2 = model2.fit(X_train,y_train,batch_size=128,epochs=10,\n",
        "                    validation_data=(X_test,y_test),verbose=1, callbacks=[es,mc])"
      ],
      "execution_count": null,
      "outputs": [
        {
          "output_type": "stream",
          "name": "stdout",
          "text": [
            "Epoch 1/10\n",
            "58/60 [============================>.] - ETA: 0s - loss: 0.4284 - tp: 731.0000 - fp: 505.0000 - tn: 8595.0000 - fn: 1346.0000 - accuracy: 0.8344 - precision: 0.5914 - recall: 0.3519 - auc: 0.7861 - prc: 0.5309\n",
            "Epoch 00001: val_loss improved from inf to 0.32373, saving model to best_model2\n"
          ]
        },
        {
          "output_type": "stream",
          "name": "stderr",
          "text": [
            "WARNING:absl:Found untraced functions such as lstm_cell_layer_call_fn, lstm_cell_layer_call_and_return_conditional_losses, lstm_cell_layer_call_fn, lstm_cell_layer_call_and_return_conditional_losses, lstm_cell_layer_call_and_return_conditional_losses while saving (showing 5 of 5). These functions will not be directly callable after loading.\n"
          ]
        },
        {
          "output_type": "stream",
          "name": "stdout",
          "text": [
            "INFO:tensorflow:Assets written to: best_model2/assets\n"
          ]
        },
        {
          "output_type": "stream",
          "name": "stderr",
          "text": [
            "INFO:tensorflow:Assets written to: best_model2/assets\n",
            "WARNING:absl:<keras.layers.recurrent.LSTMCell object at 0x7f1a3fa9f2d0> has the same name 'LSTMCell' as a built-in Keras object. Consider renaming <class 'keras.layers.recurrent.LSTMCell'> to avoid naming conflicts when loading with `tf.keras.models.load_model`. If renaming is not possible, pass the object in the `custom_objects` parameter of the load function.\n"
          ]
        },
        {
          "output_type": "stream",
          "name": "stdout",
          "text": [
            "60/60 [==============================] - 53s 804ms/step - loss: 0.4260 - tp: 751.0000 - fp: 517.0000 - tn: 8739.0000 - fn: 1363.0000 - accuracy: 0.8347 - precision: 0.5923 - recall: 0.3553 - auc: 0.7876 - prc: 0.5324 - val_loss: 0.3237 - val_tp: 421.0000 - val_fp: 245.0000 - val_tn: 2818.0000 - val_fn: 269.0000 - val_accuracy: 0.8630 - val_precision: 0.6321 - val_recall: 0.6101 - val_auc: 0.8725 - val_prc: 0.6760\n",
            "Epoch 2/10\n",
            "60/60 [==============================] - ETA: 0s - loss: 0.3015 - tp: 852.0000 - fp: 359.0000 - tn: 5834.0000 - fn: 572.0000 - accuracy: 0.8778 - precision: 0.7036 - recall: 0.5983 - auc: 0.8887 - prc: 0.7017\n",
            "Epoch 00002: val_loss improved from 0.32373 to 0.30675, saving model to best_model2\n"
          ]
        },
        {
          "output_type": "stream",
          "name": "stderr",
          "text": [
            "WARNING:absl:Found untraced functions such as lstm_cell_layer_call_fn, lstm_cell_layer_call_and_return_conditional_losses, lstm_cell_layer_call_fn, lstm_cell_layer_call_and_return_conditional_losses, lstm_cell_layer_call_and_return_conditional_losses while saving (showing 5 of 5). These functions will not be directly callable after loading.\n"
          ]
        },
        {
          "output_type": "stream",
          "name": "stdout",
          "text": [
            "INFO:tensorflow:Assets written to: best_model2/assets\n"
          ]
        },
        {
          "output_type": "stream",
          "name": "stderr",
          "text": [
            "INFO:tensorflow:Assets written to: best_model2/assets\n",
            "WARNING:absl:<keras.layers.recurrent.LSTMCell object at 0x7f1a3fa9f2d0> has the same name 'LSTMCell' as a built-in Keras object. Consider renaming <class 'keras.layers.recurrent.LSTMCell'> to avoid naming conflicts when loading with `tf.keras.models.load_model`. If renaming is not possible, pass the object in the `custom_objects` parameter of the load function.\n"
          ]
        },
        {
          "output_type": "stream",
          "name": "stdout",
          "text": [
            "60/60 [==============================] - 46s 777ms/step - loss: 0.3015 - tp: 852.0000 - fp: 359.0000 - tn: 5834.0000 - fn: 572.0000 - accuracy: 0.8778 - precision: 0.7036 - recall: 0.5983 - auc: 0.8887 - prc: 0.7017 - val_loss: 0.3068 - val_tp: 478.0000 - val_fp: 266.0000 - val_tn: 2797.0000 - val_fn: 212.0000 - val_accuracy: 0.8726 - val_precision: 0.6425 - val_recall: 0.6928 - val_auc: 0.8967 - val_prc: 0.7208\n",
            "Epoch 3/10\n",
            "60/60 [==============================] - ETA: 0s - loss: 0.2703 - tp: 896.0000 - fp: 292.0000 - tn: 5901.0000 - fn: 528.0000 - accuracy: 0.8923 - precision: 0.7542 - recall: 0.6292 - auc: 0.9110 - prc: 0.7561\n",
            "Epoch 00003: val_loss improved from 0.30675 to 0.27960, saving model to best_model2\n"
          ]
        },
        {
          "output_type": "stream",
          "name": "stderr",
          "text": [
            "WARNING:absl:Found untraced functions such as lstm_cell_layer_call_fn, lstm_cell_layer_call_and_return_conditional_losses, lstm_cell_layer_call_fn, lstm_cell_layer_call_and_return_conditional_losses, lstm_cell_layer_call_and_return_conditional_losses while saving (showing 5 of 5). These functions will not be directly callable after loading.\n"
          ]
        },
        {
          "output_type": "stream",
          "name": "stdout",
          "text": [
            "INFO:tensorflow:Assets written to: best_model2/assets\n"
          ]
        },
        {
          "output_type": "stream",
          "name": "stderr",
          "text": [
            "INFO:tensorflow:Assets written to: best_model2/assets\n",
            "WARNING:absl:<keras.layers.recurrent.LSTMCell object at 0x7f1a3fa9f2d0> has the same name 'LSTMCell' as a built-in Keras object. Consider renaming <class 'keras.layers.recurrent.LSTMCell'> to avoid naming conflicts when loading with `tf.keras.models.load_model`. If renaming is not possible, pass the object in the `custom_objects` parameter of the load function.\n"
          ]
        },
        {
          "output_type": "stream",
          "name": "stdout",
          "text": [
            "60/60 [==============================] - 46s 778ms/step - loss: 0.2703 - tp: 896.0000 - fp: 292.0000 - tn: 5901.0000 - fn: 528.0000 - accuracy: 0.8923 - precision: 0.7542 - recall: 0.6292 - auc: 0.9110 - prc: 0.7561 - val_loss: 0.2796 - val_tp: 420.0000 - val_fp: 156.0000 - val_tn: 2907.0000 - val_fn: 270.0000 - val_accuracy: 0.8865 - val_precision: 0.7292 - val_recall: 0.6087 - val_auc: 0.9064 - val_prc: 0.7440\n",
            "Epoch 4/10\n",
            "59/60 [============================>.] - ETA: 0s - loss: 0.2482 - tp: 929.0000 - fp: 257.0000 - tn: 5876.0000 - fn: 490.0000 - accuracy: 0.9011 - precision: 0.7833 - recall: 0.6547 - auc: 0.9268 - prc: 0.7980\n",
            "Epoch 00004: val_loss did not improve from 0.27960\n",
            "60/60 [==============================] - 2s 31ms/step - loss: 0.2473 - tp: 933.0000 - fp: 259.0000 - tn: 5934.0000 - fn: 491.0000 - accuracy: 0.9015 - precision: 0.7827 - recall: 0.6552 - auc: 0.9269 - prc: 0.7976 - val_loss: 0.2987 - val_tp: 484.0000 - val_fp: 265.0000 - val_tn: 2798.0000 - val_fn: 206.0000 - val_accuracy: 0.8745 - val_precision: 0.6462 - val_recall: 0.7014 - val_auc: 0.9097 - val_prc: 0.7482\n",
            "Epoch 5/10\n",
            "58/60 [============================>.] - ETA: 0s - loss: 0.2226 - tp: 949.0000 - fp: 206.0000 - tn: 5837.0000 - fn: 432.0000 - accuracy: 0.9141 - precision: 0.8216 - recall: 0.6872 - auc: 0.9397 - prc: 0.8366\n",
            "Epoch 00005: val_loss improved from 0.27960 to 0.27434, saving model to best_model2\n"
          ]
        },
        {
          "output_type": "stream",
          "name": "stderr",
          "text": [
            "WARNING:absl:Found untraced functions such as lstm_cell_layer_call_fn, lstm_cell_layer_call_and_return_conditional_losses, lstm_cell_layer_call_fn, lstm_cell_layer_call_and_return_conditional_losses, lstm_cell_layer_call_and_return_conditional_losses while saving (showing 5 of 5). These functions will not be directly callable after loading.\n"
          ]
        },
        {
          "output_type": "stream",
          "name": "stdout",
          "text": [
            "INFO:tensorflow:Assets written to: best_model2/assets\n"
          ]
        },
        {
          "output_type": "stream",
          "name": "stderr",
          "text": [
            "INFO:tensorflow:Assets written to: best_model2/assets\n",
            "WARNING:absl:<keras.layers.recurrent.LSTMCell object at 0x7f1a3fa9f2d0> has the same name 'LSTMCell' as a built-in Keras object. Consider renaming <class 'keras.layers.recurrent.LSTMCell'> to avoid naming conflicts when loading with `tf.keras.models.load_model`. If renaming is not possible, pass the object in the `custom_objects` parameter of the load function.\n"
          ]
        },
        {
          "output_type": "stream",
          "name": "stdout",
          "text": [
            "60/60 [==============================] - 52s 877ms/step - loss: 0.2233 - tp: 977.0000 - fp: 208.0000 - tn: 5985.0000 - fn: 447.0000 - accuracy: 0.9140 - precision: 0.8245 - recall: 0.6861 - auc: 0.9394 - prc: 0.8373 - val_loss: 0.2743 - val_tp: 444.0000 - val_fp: 188.0000 - val_tn: 2875.0000 - val_fn: 246.0000 - val_accuracy: 0.8844 - val_precision: 0.7025 - val_recall: 0.6435 - val_auc: 0.9124 - val_prc: 0.7591\n",
            "Epoch 6/10\n",
            "60/60 [==============================] - ETA: 0s - loss: 0.2027 - tp: 1021.0000 - fp: 184.0000 - tn: 6009.0000 - fn: 403.0000 - accuracy: 0.9229 - precision: 0.8473 - recall: 0.7170 - auc: 0.9499 - prc: 0.8654\n",
            "Epoch 00006: val_loss improved from 0.27434 to 0.26946, saving model to best_model2\n"
          ]
        },
        {
          "output_type": "stream",
          "name": "stderr",
          "text": [
            "WARNING:absl:Found untraced functions such as lstm_cell_layer_call_fn, lstm_cell_layer_call_and_return_conditional_losses, lstm_cell_layer_call_fn, lstm_cell_layer_call_and_return_conditional_losses, lstm_cell_layer_call_and_return_conditional_losses while saving (showing 5 of 5). These functions will not be directly callable after loading.\n"
          ]
        },
        {
          "output_type": "stream",
          "name": "stdout",
          "text": [
            "INFO:tensorflow:Assets written to: best_model2/assets\n"
          ]
        },
        {
          "output_type": "stream",
          "name": "stderr",
          "text": [
            "INFO:tensorflow:Assets written to: best_model2/assets\n",
            "WARNING:absl:<keras.layers.recurrent.LSTMCell object at 0x7f1a3fa9f2d0> has the same name 'LSTMCell' as a built-in Keras object. Consider renaming <class 'keras.layers.recurrent.LSTMCell'> to avoid naming conflicts when loading with `tf.keras.models.load_model`. If renaming is not possible, pass the object in the `custom_objects` parameter of the load function.\n"
          ]
        },
        {
          "output_type": "stream",
          "name": "stdout",
          "text": [
            "60/60 [==============================] - 60s 1s/step - loss: 0.2027 - tp: 1021.0000 - fp: 184.0000 - tn: 6009.0000 - fn: 403.0000 - accuracy: 0.9229 - precision: 0.8473 - recall: 0.7170 - auc: 0.9499 - prc: 0.8654 - val_loss: 0.2695 - val_tp: 489.0000 - val_fp: 199.0000 - val_tn: 2864.0000 - val_fn: 201.0000 - val_accuracy: 0.8934 - val_precision: 0.7108 - val_recall: 0.7087 - val_auc: 0.9198 - val_prc: 0.7795\n",
            "Epoch 7/10\n",
            "60/60 [==============================] - ETA: 0s - loss: 0.1807 - tp: 1068.0000 - fp: 150.0000 - tn: 6043.0000 - fn: 356.0000 - accuracy: 0.9336 - precision: 0.8768 - recall: 0.7500 - auc: 0.9599 - prc: 0.8938\n",
            "Epoch 00007: val_loss did not improve from 0.26946\n",
            "60/60 [==============================] - 2s 31ms/step - loss: 0.1807 - tp: 1068.0000 - fp: 150.0000 - tn: 6043.0000 - fn: 356.0000 - accuracy: 0.9336 - precision: 0.8768 - recall: 0.7500 - auc: 0.9599 - prc: 0.8938 - val_loss: 0.3015 - val_tp: 493.0000 - val_fp: 265.0000 - val_tn: 2798.0000 - val_fn: 197.0000 - val_accuracy: 0.8769 - val_precision: 0.6504 - val_recall: 0.7145 - val_auc: 0.9123 - val_prc: 0.7494\n",
            "Epoch 8/10\n",
            "60/60 [==============================] - ETA: 0s - loss: 0.1611 - tp: 1120.0000 - fp: 142.0000 - tn: 6051.0000 - fn: 304.0000 - accuracy: 0.9414 - precision: 0.8875 - recall: 0.7865 - auc: 0.9677 - prc: 0.9136\n",
            "Epoch 00008: val_loss improved from 0.26946 to 0.25678, saving model to best_model2\n"
          ]
        },
        {
          "output_type": "stream",
          "name": "stderr",
          "text": [
            "WARNING:absl:Found untraced functions such as lstm_cell_layer_call_fn, lstm_cell_layer_call_and_return_conditional_losses, lstm_cell_layer_call_fn, lstm_cell_layer_call_and_return_conditional_losses, lstm_cell_layer_call_and_return_conditional_losses while saving (showing 5 of 5). These functions will not be directly callable after loading.\n"
          ]
        },
        {
          "output_type": "stream",
          "name": "stdout",
          "text": [
            "INFO:tensorflow:Assets written to: best_model2/assets\n"
          ]
        },
        {
          "output_type": "stream",
          "name": "stderr",
          "text": [
            "INFO:tensorflow:Assets written to: best_model2/assets\n",
            "WARNING:absl:<keras.layers.recurrent.LSTMCell object at 0x7f1a3fa9f2d0> has the same name 'LSTMCell' as a built-in Keras object. Consider renaming <class 'keras.layers.recurrent.LSTMCell'> to avoid naming conflicts when loading with `tf.keras.models.load_model`. If renaming is not possible, pass the object in the `custom_objects` parameter of the load function.\n"
          ]
        },
        {
          "output_type": "stream",
          "name": "stdout",
          "text": [
            "60/60 [==============================] - 45s 761ms/step - loss: 0.1611 - tp: 1120.0000 - fp: 142.0000 - tn: 6051.0000 - fn: 304.0000 - accuracy: 0.9414 - precision: 0.8875 - recall: 0.7865 - auc: 0.9677 - prc: 0.9136 - val_loss: 0.2568 - val_tp: 467.0000 - val_fp: 149.0000 - val_tn: 2914.0000 - val_fn: 223.0000 - val_accuracy: 0.9009 - val_precision: 0.7581 - val_recall: 0.6768 - val_auc: 0.9202 - val_prc: 0.7832\n",
            "Epoch 9/10\n",
            "59/60 [============================>.] - ETA: 0s - loss: 0.1315 - tp: 1155.0000 - fp: 101.0000 - tn: 6038.0000 - fn: 258.0000 - accuracy: 0.9525 - precision: 0.9196 - recall: 0.8174 - auc: 0.9794 - prc: 0.9417\n",
            "Epoch 00009: val_loss did not improve from 0.25678\n",
            "60/60 [==============================] - 2s 32ms/step - loss: 0.1315 - tp: 1165.0000 - fp: 103.0000 - tn: 6090.0000 - fn: 259.0000 - accuracy: 0.9525 - precision: 0.9188 - recall: 0.8181 - auc: 0.9795 - prc: 0.9416 - val_loss: 0.3053 - val_tp: 538.0000 - val_fp: 286.0000 - val_tn: 2777.0000 - val_fn: 152.0000 - val_accuracy: 0.8833 - val_precision: 0.6529 - val_recall: 0.7797 - val_auc: 0.9230 - val_prc: 0.7793\n",
            "Epoch 10/10\n",
            "59/60 [============================>.] - ETA: 0s - loss: 0.1062 - tp: 1218.0000 - fp: 81.0000 - tn: 6056.0000 - fn: 197.0000 - accuracy: 0.9632 - precision: 0.9376 - recall: 0.8608 - auc: 0.9857 - prc: 0.9617\n",
            "Epoch 00010: val_loss did not improve from 0.25678\n",
            "60/60 [==============================] - 2s 31ms/step - loss: 0.1059 - tp: 1227.0000 - fp: 81.0000 - tn: 6112.0000 - fn: 197.0000 - accuracy: 0.9635 - precision: 0.9381 - recall: 0.8617 - auc: 0.9857 - prc: 0.9617 - val_loss: 0.3053 - val_tp: 539.0000 - val_fp: 272.0000 - val_tn: 2791.0000 - val_fn: 151.0000 - val_accuracy: 0.8873 - val_precision: 0.6646 - val_recall: 0.7812 - val_auc: 0.9255 - val_prc: 0.7880\n"
          ]
        }
      ]
    },
    {
      "cell_type": "code",
      "metadata": {
        "colab": {
          "base_uri": "https://localhost:8080/"
        },
        "id": "yMvwQzd4lIj9",
        "outputId": "39bd5af2-6ace-4dec-b4aa-e4d78cc1a570"
      },
      "source": [
        "#accessing model performace\n",
        "model2_results = model2.evaluate(X_test, y_test, batch_size = 128, verbose = 0)\n",
        "\n",
        "for name, value in zip(model2.metrics_names, model2_results):\n",
        "  print(name, \": \", value)"
      ],
      "execution_count": null,
      "outputs": [
        {
          "output_type": "stream",
          "name": "stdout",
          "text": [
            "loss :  0.305347204208374\n",
            "tp :  539.0\n",
            "fp :  272.0\n",
            "tn :  2791.0\n",
            "fn :  151.0\n",
            "accuracy :  0.8872901797294617\n",
            "precision :  0.6646115779876709\n",
            "recall :  0.7811594009399414\n",
            "auc :  0.9255049824714661\n",
            "prc :  0.7879942655563354\n"
          ]
        }
      ]
    },
    {
      "cell_type": "markdown",
      "source": [
        "### BERT Transformer-based Model"
      ],
      "metadata": {
        "id": "s5v7ENLZRf6r"
      }
    },
    {
      "cell_type": "code",
      "source": [
        "#installing prerequisites\n",
        "\n",
        "# A dependency of the preprocessing for BERT inputs\n",
        "!pip install -q -U tensorflow-text\n",
        "\n",
        "# AdamW optimizer \n",
        "!pip install -q tf-models-official\n"
      ],
      "metadata": {
        "id": "b44tqzmKMNE2",
        "colab": {
          "base_uri": "https://localhost:8080/"
        },
        "outputId": "6c2f93a9-e97b-40c3-8c8e-affdaadbf5d0"
      },
      "execution_count": null,
      "outputs": [
        {
          "output_type": "stream",
          "name": "stdout",
          "text": [
            "\u001b[K     |████████████████████████████████| 4.9 MB 5.6 MB/s \n",
            "\u001b[K     |████████████████████████████████| 1.8 MB 5.2 MB/s \n",
            "\u001b[K     |████████████████████████████████| 1.1 MB 34.4 MB/s \n",
            "\u001b[K     |████████████████████████████████| 99 kB 7.7 MB/s \n",
            "\u001b[K     |████████████████████████████████| 90 kB 8.4 MB/s \n",
            "\u001b[K     |████████████████████████████████| 213 kB 43.3 MB/s \n",
            "\u001b[K     |████████████████████████████████| 1.2 MB 32.7 MB/s \n",
            "\u001b[K     |████████████████████████████████| 43 kB 1.8 MB/s \n",
            "\u001b[K     |████████████████████████████████| 352 kB 41.5 MB/s \n",
            "\u001b[K     |████████████████████████████████| 47.6 MB 2.8 MB/s \n",
            "\u001b[K     |████████████████████████████████| 596 kB 45.0 MB/s \n",
            "\u001b[?25h  Building wheel for py-cpuinfo (setup.py) ... \u001b[?25l\u001b[?25hdone\n",
            "  Building wheel for seqeval (setup.py) ... \u001b[?25l\u001b[?25hdone\n"
          ]
        }
      ]
    },
    {
      "cell_type": "code",
      "source": [
        "# importing dependencies\n",
        "\n",
        "import tensorflow as tf\n",
        "import tensorflow_hub as hub # pre-trained models\n",
        "import tensorflow_text as text # text pre-processing functions\n",
        "from official.nlp import optimization  # to create AdamW optimizer\n",
        "\n",
        "import matplotlib.pyplot as plt\n"
      ],
      "metadata": {
        "id": "gj-ydoENN7Y7"
      },
      "execution_count": null,
      "outputs": []
    },
    {
      "cell_type": "code",
      "source": [
        "#select small_bert model\n",
        "bert_model_name = 'small_bert/bert_en_uncased_L-4_H-768_A-12'  #@param [\"bert_en_uncased_L-12_H-768_A-12\", \"bert_en_cased_L-12_H-768_A-12\", \"bert_multi_cased_L-12_H-768_A-12\", \"small_bert/bert_en_uncased_L-2_H-128_A-2\", \"small_bert/bert_en_uncased_L-2_H-256_A-4\", \"small_bert/bert_en_uncased_L-2_H-512_A-8\", \"small_bert/bert_en_uncased_L-2_H-768_A-12\", \"small_bert/bert_en_uncased_L-4_H-128_A-2\", \"small_bert/bert_en_uncased_L-4_H-256_A-4\", \"small_bert/bert_en_uncased_L-4_H-512_A-8\", \"small_bert/bert_en_uncased_L-4_H-768_A-12\", \"small_bert/bert_en_uncased_L-6_H-128_A-2\", \"small_bert/bert_en_uncased_L-6_H-256_A-4\", \"small_bert/bert_en_uncased_L-6_H-512_A-8\", \"small_bert/bert_en_uncased_L-6_H-768_A-12\", \"small_bert/bert_en_uncased_L-8_H-128_A-2\", \"small_bert/bert_en_uncased_L-8_H-256_A-4\", \"small_bert/bert_en_uncased_L-8_H-512_A-8\", \"small_bert/bert_en_uncased_L-8_H-768_A-12\", \"small_bert/bert_en_uncased_L-10_H-128_A-2\", \"small_bert/bert_en_uncased_L-10_H-256_A-4\", \"small_bert/bert_en_uncased_L-10_H-512_A-8\", \"small_bert/bert_en_uncased_L-10_H-768_A-12\", \"small_bert/bert_en_uncased_L-12_H-128_A-2\", \"small_bert/bert_en_uncased_L-12_H-256_A-4\", \"small_bert/bert_en_uncased_L-12_H-512_A-8\", \"small_bert/bert_en_uncased_L-12_H-768_A-12\", \"albert_en_base\", \"electra_small\", \"electra_base\", \"experts_pubmed\", \"experts_wiki_books\", \"talking-heads_base\"]\n",
        "\n",
        "map_name_to_handle = {\n",
        "    'bert_en_uncased_L-12_H-768_A-12':\n",
        "        'https://tfhub.dev/tensorflow/bert_en_uncased_L-12_H-768_A-12/3',\n",
        "    'bert_en_cased_L-12_H-768_A-12':\n",
        "        'https://tfhub.dev/tensorflow/bert_en_cased_L-12_H-768_A-12/3',\n",
        "    'bert_multi_cased_L-12_H-768_A-12':\n",
        "        'https://tfhub.dev/tensorflow/bert_multi_cased_L-12_H-768_A-12/3',\n",
        "    'small_bert/bert_en_uncased_L-2_H-128_A-2':\n",
        "        'https://tfhub.dev/tensorflow/small_bert/bert_en_uncased_L-2_H-128_A-2/1',\n",
        "    'small_bert/bert_en_uncased_L-2_H-256_A-4':\n",
        "        'https://tfhub.dev/tensorflow/small_bert/bert_en_uncased_L-2_H-256_A-4/1',\n",
        "    'small_bert/bert_en_uncased_L-2_H-512_A-8':\n",
        "        'https://tfhub.dev/tensorflow/small_bert/bert_en_uncased_L-2_H-512_A-8/1',\n",
        "    'small_bert/bert_en_uncased_L-2_H-768_A-12':\n",
        "        'https://tfhub.dev/tensorflow/small_bert/bert_en_uncased_L-2_H-768_A-12/1',\n",
        "    'small_bert/bert_en_uncased_L-4_H-128_A-2':\n",
        "        'https://tfhub.dev/tensorflow/small_bert/bert_en_uncased_L-4_H-128_A-2/1',\n",
        "    'small_bert/bert_en_uncased_L-4_H-256_A-4':\n",
        "        'https://tfhub.dev/tensorflow/small_bert/bert_en_uncased_L-4_H-256_A-4/1',\n",
        "    'small_bert/bert_en_uncased_L-4_H-512_A-8':\n",
        "        'https://tfhub.dev/tensorflow/small_bert/bert_en_uncased_L-4_H-512_A-8/1',\n",
        "    'small_bert/bert_en_uncased_L-4_H-768_A-12':\n",
        "        'https://tfhub.dev/tensorflow/small_bert/bert_en_uncased_L-4_H-768_A-12/1',\n",
        "    'small_bert/bert_en_uncased_L-6_H-128_A-2':\n",
        "        'https://tfhub.dev/tensorflow/small_bert/bert_en_uncased_L-6_H-128_A-2/1',\n",
        "    'small_bert/bert_en_uncased_L-6_H-256_A-4':\n",
        "        'https://tfhub.dev/tensorflow/small_bert/bert_en_uncased_L-6_H-256_A-4/1',\n",
        "    'small_bert/bert_en_uncased_L-6_H-512_A-8':\n",
        "        'https://tfhub.dev/tensorflow/small_bert/bert_en_uncased_L-6_H-512_A-8/1',\n",
        "    'small_bert/bert_en_uncased_L-6_H-768_A-12':\n",
        "        'https://tfhub.dev/tensorflow/small_bert/bert_en_uncased_L-6_H-768_A-12/1',\n",
        "    'small_bert/bert_en_uncased_L-8_H-128_A-2':\n",
        "        'https://tfhub.dev/tensorflow/small_bert/bert_en_uncased_L-8_H-128_A-2/1',\n",
        "    'small_bert/bert_en_uncased_L-8_H-256_A-4':\n",
        "        'https://tfhub.dev/tensorflow/small_bert/bert_en_uncased_L-8_H-256_A-4/1',\n",
        "    'small_bert/bert_en_uncased_L-8_H-512_A-8':\n",
        "        'https://tfhub.dev/tensorflow/small_bert/bert_en_uncased_L-8_H-512_A-8/1',\n",
        "    'small_bert/bert_en_uncased_L-8_H-768_A-12':\n",
        "        'https://tfhub.dev/tensorflow/small_bert/bert_en_uncased_L-8_H-768_A-12/1',\n",
        "    'small_bert/bert_en_uncased_L-10_H-128_A-2':\n",
        "        'https://tfhub.dev/tensorflow/small_bert/bert_en_uncased_L-10_H-128_A-2/1',\n",
        "    'small_bert/bert_en_uncased_L-10_H-256_A-4':\n",
        "        'https://tfhub.dev/tensorflow/small_bert/bert_en_uncased_L-10_H-256_A-4/1',\n",
        "    'small_bert/bert_en_uncased_L-10_H-512_A-8':\n",
        "        'https://tfhub.dev/tensorflow/small_bert/bert_en_uncased_L-10_H-512_A-8/1',\n",
        "    'small_bert/bert_en_uncased_L-10_H-768_A-12':\n",
        "        'https://tfhub.dev/tensorflow/small_bert/bert_en_uncased_L-10_H-768_A-12/1',\n",
        "    'small_bert/bert_en_uncased_L-12_H-128_A-2':\n",
        "        'https://tfhub.dev/tensorflow/small_bert/bert_en_uncased_L-12_H-128_A-2/1',\n",
        "    'small_bert/bert_en_uncased_L-12_H-256_A-4':\n",
        "        'https://tfhub.dev/tensorflow/small_bert/bert_en_uncased_L-12_H-256_A-4/1',\n",
        "    'small_bert/bert_en_uncased_L-12_H-512_A-8':\n",
        "        'https://tfhub.dev/tensorflow/small_bert/bert_en_uncased_L-12_H-512_A-8/1',\n",
        "    'small_bert/bert_en_uncased_L-12_H-768_A-12':\n",
        "        'https://tfhub.dev/tensorflow/small_bert/bert_en_uncased_L-12_H-768_A-12/1',\n",
        "    'albert_en_base':\n",
        "        'https://tfhub.dev/tensorflow/albert_en_base/2',\n",
        "    'electra_small':\n",
        "        'https://tfhub.dev/google/electra_small/2',\n",
        "    'electra_base':\n",
        "        'https://tfhub.dev/google/electra_base/2',\n",
        "    'experts_pubmed':\n",
        "        'https://tfhub.dev/google/experts/bert/pubmed/2',\n",
        "    'experts_wiki_books':\n",
        "        'https://tfhub.dev/google/experts/bert/wiki_books/2',\n",
        "    'talking-heads_base':\n",
        "        'https://tfhub.dev/tensorflow/talkheads_ggelu_bert_en_base/1',\n",
        "}\n",
        "\n",
        "map_model_to_preprocess = {\n",
        "    'bert_en_uncased_L-12_H-768_A-12':\n",
        "        'https://tfhub.dev/tensorflow/bert_en_uncased_preprocess/3',\n",
        "    'bert_en_cased_L-12_H-768_A-12':\n",
        "        'https://tfhub.dev/tensorflow/bert_en_cased_preprocess/3',\n",
        "    'small_bert/bert_en_uncased_L-2_H-128_A-2':\n",
        "        'https://tfhub.dev/tensorflow/bert_en_uncased_preprocess/3',\n",
        "    'small_bert/bert_en_uncased_L-2_H-256_A-4':\n",
        "        'https://tfhub.dev/tensorflow/bert_en_uncased_preprocess/3',\n",
        "    'small_bert/bert_en_uncased_L-2_H-512_A-8':\n",
        "        'https://tfhub.dev/tensorflow/bert_en_uncased_preprocess/3',\n",
        "    'small_bert/bert_en_uncased_L-2_H-768_A-12':\n",
        "        'https://tfhub.dev/tensorflow/bert_en_uncased_preprocess/3',\n",
        "    'small_bert/bert_en_uncased_L-4_H-128_A-2':\n",
        "        'https://tfhub.dev/tensorflow/bert_en_uncased_preprocess/3',\n",
        "    'small_bert/bert_en_uncased_L-4_H-256_A-4':\n",
        "        'https://tfhub.dev/tensorflow/bert_en_uncased_preprocess/3',\n",
        "    'small_bert/bert_en_uncased_L-4_H-512_A-8':\n",
        "        'https://tfhub.dev/tensorflow/bert_en_uncased_preprocess/3',\n",
        "    'small_bert/bert_en_uncased_L-4_H-768_A-12':\n",
        "        'https://tfhub.dev/tensorflow/bert_en_uncased_preprocess/3',\n",
        "    'small_bert/bert_en_uncased_L-6_H-128_A-2':\n",
        "        'https://tfhub.dev/tensorflow/bert_en_uncased_preprocess/3',\n",
        "    'small_bert/bert_en_uncased_L-6_H-256_A-4':\n",
        "        'https://tfhub.dev/tensorflow/bert_en_uncased_preprocess/3',\n",
        "    'small_bert/bert_en_uncased_L-6_H-512_A-8':\n",
        "        'https://tfhub.dev/tensorflow/bert_en_uncased_preprocess/3',\n",
        "    'small_bert/bert_en_uncased_L-6_H-768_A-12':\n",
        "        'https://tfhub.dev/tensorflow/bert_en_uncased_preprocess/3',\n",
        "    'small_bert/bert_en_uncased_L-8_H-128_A-2':\n",
        "        'https://tfhub.dev/tensorflow/bert_en_uncased_preprocess/3',\n",
        "    'small_bert/bert_en_uncased_L-8_H-256_A-4':\n",
        "        'https://tfhub.dev/tensorflow/bert_en_uncased_preprocess/3',\n",
        "    'small_bert/bert_en_uncased_L-8_H-512_A-8':\n",
        "        'https://tfhub.dev/tensorflow/bert_en_uncased_preprocess/3',\n",
        "    'small_bert/bert_en_uncased_L-8_H-768_A-12':\n",
        "        'https://tfhub.dev/tensorflow/bert_en_uncased_preprocess/3',\n",
        "    'small_bert/bert_en_uncased_L-10_H-128_A-2':\n",
        "        'https://tfhub.dev/tensorflow/bert_en_uncased_preprocess/3',\n",
        "    'small_bert/bert_en_uncased_L-10_H-256_A-4':\n",
        "        'https://tfhub.dev/tensorflow/bert_en_uncased_preprocess/3',\n",
        "    'small_bert/bert_en_uncased_L-10_H-512_A-8':\n",
        "        'https://tfhub.dev/tensorflow/bert_en_uncased_preprocess/3',\n",
        "    'small_bert/bert_en_uncased_L-10_H-768_A-12':\n",
        "        'https://tfhub.dev/tensorflow/bert_en_uncased_preprocess/3',\n",
        "    'small_bert/bert_en_uncased_L-12_H-128_A-2':\n",
        "        'https://tfhub.dev/tensorflow/bert_en_uncased_preprocess/3',\n",
        "    'small_bert/bert_en_uncased_L-12_H-256_A-4':\n",
        "        'https://tfhub.dev/tensorflow/bert_en_uncased_preprocess/3',\n",
        "    'small_bert/bert_en_uncased_L-12_H-512_A-8':\n",
        "        'https://tfhub.dev/tensorflow/bert_en_uncased_preprocess/3',\n",
        "    'small_bert/bert_en_uncased_L-12_H-768_A-12':\n",
        "        'https://tfhub.dev/tensorflow/bert_en_uncased_preprocess/3',\n",
        "    'bert_multi_cased_L-12_H-768_A-12':\n",
        "        'https://tfhub.dev/tensorflow/bert_multi_cased_preprocess/3',\n",
        "    'albert_en_base':\n",
        "        'https://tfhub.dev/tensorflow/albert_en_preprocess/3',\n",
        "    'electra_small':\n",
        "        'https://tfhub.dev/tensorflow/bert_en_uncased_preprocess/3',\n",
        "    'electra_base':\n",
        "        'https://tfhub.dev/tensorflow/bert_en_uncased_preprocess/3',\n",
        "    'experts_pubmed':\n",
        "        'https://tfhub.dev/tensorflow/bert_en_uncased_preprocess/3',\n",
        "    'experts_wiki_books':\n",
        "        'https://tfhub.dev/tensorflow/bert_en_uncased_preprocess/3',\n",
        "    'talking-heads_base':\n",
        "        'https://tfhub.dev/tensorflow/bert_en_uncased_preprocess/3',\n",
        "}\n",
        "\n",
        "tfhub_handle_encoder = map_name_to_handle[bert_model_name]\n",
        "tfhub_handle_preprocess = map_model_to_preprocess[bert_model_name]\n",
        "\n",
        "print(f'BERT model selected           : {tfhub_handle_encoder}')\n",
        "print(f'Preprocess model auto-selected: {tfhub_handle_preprocess}')"
      ],
      "metadata": {
        "colab": {
          "base_uri": "https://localhost:8080/"
        },
        "id": "Oo2BWlW6O2tj",
        "outputId": "df7ae2a3-0b11-4724-81d3-98db86491e3c"
      },
      "execution_count": null,
      "outputs": [
        {
          "output_type": "stream",
          "name": "stdout",
          "text": [
            "BERT model selected           : https://tfhub.dev/tensorflow/small_bert/bert_en_uncased_L-4_H-768_A-12/1\n",
            "Preprocess model auto-selected: https://tfhub.dev/tensorflow/bert_en_uncased_preprocess/3\n"
          ]
        }
      ]
    },
    {
      "cell_type": "code",
      "source": [
        "#clearing session before building the model\n",
        "from keras.backend import clear_session\n",
        "clear_session()"
      ],
      "metadata": {
        "id": "ZfHVvGhGPvwn"
      },
      "execution_count": null,
      "outputs": []
    },
    {
      "cell_type": "code",
      "source": [
        "#defining model as function\n",
        "def build_classifier_model():\n",
        "  text_input = tf.keras.layers.Input(shape=(), dtype=tf.string, name='text')\n",
        "  preprocessing_layer = hub.KerasLayer(tfhub_handle_preprocess, name='preprocessing')\n",
        "  encoder_inputs = preprocessing_layer(text_input)\n",
        "  encoder = hub.KerasLayer(tfhub_handle_encoder, trainable=True, name='BERT_encoder')\n",
        "  outputs = encoder(encoder_inputs)\n",
        "  net = outputs['pooled_output']\n",
        "  net = tf.keras.layers.Dense(128,activation='relu')(net)\n",
        "  net = tf.keras.layers.Dropout(0.2)(net)\n",
        "  net = tf.keras.layers.Dense(1, activation='sigmoid', name='classifier')(net)\n",
        "  return tf.keras.Model(text_input, net)"
      ],
      "metadata": {
        "id": "u0bZaP_tRq3a"
      },
      "execution_count": null,
      "outputs": []
    },
    {
      "cell_type": "code",
      "source": [
        "#instantiating the model\n",
        "classifier_model = build_classifier_model()"
      ],
      "metadata": {
        "id": "8IR0S5RfSB_7"
      },
      "execution_count": null,
      "outputs": []
    },
    {
      "cell_type": "code",
      "source": [
        "classifier_model.summary()"
      ],
      "metadata": {
        "colab": {
          "base_uri": "https://localhost:8080/"
        },
        "id": "0A9vwPHqU6Zl",
        "outputId": "a556c9e5-01fb-48ea-fd9b-cb8bc027c953"
      },
      "execution_count": null,
      "outputs": [
        {
          "output_type": "stream",
          "name": "stdout",
          "text": [
            "Model: \"model\"\n",
            "__________________________________________________________________________________________________\n",
            " Layer (type)                   Output Shape         Param #     Connected to                     \n",
            "==================================================================================================\n",
            " text (InputLayer)              [(None,)]            0           []                               \n",
            "                                                                                                  \n",
            " preprocessing (KerasLayer)     {'input_mask': (Non  0           ['text[0][0]']                   \n",
            "                                e, 128),                                                          \n",
            "                                 'input_type_ids':                                                \n",
            "                                (None, 128),                                                      \n",
            "                                 'input_word_ids':                                                \n",
            "                                (None, 128)}                                                      \n",
            "                                                                                                  \n",
            " BERT_encoder (KerasLayer)      {'sequence_output':  52779265    ['preprocessing[0][0]',          \n",
            "                                 (None, 128, 768),                'preprocessing[0][1]',          \n",
            "                                 'default': (None,                'preprocessing[0][2]']          \n",
            "                                768),                                                             \n",
            "                                 'encoder_outputs':                                               \n",
            "                                 [(None, 128, 768),                                               \n",
            "                                 (None, 128, 768),                                                \n",
            "                                 (None, 128, 768),                                                \n",
            "                                 (None, 128, 768)],                                               \n",
            "                                 'pooled_output': (                                               \n",
            "                                None, 768)}                                                       \n",
            "                                                                                                  \n",
            " dense (Dense)                  (None, 128)          98432       ['BERT_encoder[0][5]']           \n",
            "                                                                                                  \n",
            " dropout (Dropout)              (None, 128)          0           ['dense[0][0]']                  \n",
            "                                                                                                  \n",
            " classifier (Dense)             (None, 1)            129         ['dropout[0][0]']                \n",
            "                                                                                                  \n",
            "==================================================================================================\n",
            "Total params: 52,877,826\n",
            "Trainable params: 52,877,825\n",
            "Non-trainable params: 1\n",
            "__________________________________________________________________________________________________\n"
          ]
        }
      ]
    },
    {
      "cell_type": "code",
      "source": [
        "tf.keras.utils.plot_model(classifier_model)"
      ],
      "metadata": {
        "colab": {
          "base_uri": "https://localhost:8080/",
          "height": 564
        },
        "id": "UDU6GDNDU9X1",
        "outputId": "aa8898ac-fd23-4b99-96c1-d9a150d65b36"
      },
      "execution_count": null,
      "outputs": [
        {
          "output_type": "execute_result",
          "data": {
            "image/png": "[encoded data removed]",
            "text/plain": [
              "<IPython.core.display.Image object>"
            ]
          },
          "metadata": {},
          "execution_count": 37
        }
      ]
    },
    {
      "cell_type": "code",
      "source": [
        "#loss function\n",
        "loss = tf.keras.losses.BinaryCrossentropy()"
      ],
      "metadata": {
        "id": "LyOQjSOpVDqu"
      },
      "execution_count": null,
      "outputs": []
    },
    {
      "cell_type": "code",
      "source": [
        "#importing keras metrics\n",
        "from keras.metrics import *\n",
        "\n",
        "#defining the metric that needs to be calculated\n",
        "METRICS = [\n",
        "      BinaryAccuracy(name='accuracy'),\n",
        "      Precision(name='precision'),\n",
        "      Recall(name='recall'),\n",
        "      AUC(name='auc'),\n",
        "      AUC(name='prc', curve='PR'), # precision-recall curve\n",
        "]"
      ],
      "metadata": {
        "id": "adzkcc77VH7l"
      },
      "execution_count": null,
      "outputs": []
    },
    {
      "cell_type": "code",
      "source": [
        "epochs = 5\n",
        "steps_per_epoch = 100\n",
        "num_train_steps = steps_per_epoch * epochs\n",
        "num_warmup_steps = int(0.1*num_train_steps)\n",
        "\n",
        "init_lr = 3e-5\n",
        "optimizer = optimization.create_optimizer(init_lr=init_lr,\n",
        "                                          num_train_steps=num_train_steps,\n",
        "                                          num_warmup_steps=num_warmup_steps,\n",
        "                                          optimizer_type='adamw')"
      ],
      "metadata": {
        "id": "I-fBP8B1VwPw"
      },
      "execution_count": null,
      "outputs": []
    },
    {
      "cell_type": "code",
      "source": [
        "#compining model with loss function, metrics, optimizer\n",
        "\n",
        "classifier_model.compile(optimizer=optimizer,\n",
        "                         loss=loss,\n",
        "                         metrics=METRICS)"
      ],
      "metadata": {
        "id": "C8pzd-m2YgKd"
      },
      "execution_count": null,
      "outputs": []
    },
    {
      "cell_type": "code",
      "source": [
        "#training the model\n",
        "print(f'Training model with {tfhub_handle_encoder}')\n",
        "history = classifier_model.fit(x=X_train.values,y=y_train,\n",
        "                               validation_data=(X_test.values,y_test),\n",
        "                               epochs=epochs)"
      ],
      "metadata": {
        "colab": {
          "base_uri": "https://localhost:8080/"
        },
        "id": "fgFgN2P1Y0bE",
        "outputId": "695d47c7-9ecb-4c85-c7a4-04b8e89d9bd4"
      },
      "execution_count": null,
      "outputs": [
        {
          "output_type": "stream",
          "name": "stdout",
          "text": [
            "Training model with https://tfhub.dev/tensorflow/small_bert/bert_en_uncased_L-4_H-512_A-8/1\n",
            "Epoch 1/5\n",
            "239/239 [==============================] - 2125s 9s/step - loss: 0.4122 - accuracy: 0.8081 - precision: 0.4264 - recall: 0.0772 - auc: 0.7835 - prc: 0.4112 - val_loss: 0.3687 - val_accuracy: 0.8188 - val_precision: 0.8571 - val_recall: 0.0174 - val_auc: 0.8532 - val_prc: 0.6050\n",
            "Epoch 2/5\n",
            "239/239 [==============================] - 2168s 9s/step - loss: 0.3866 - accuracy: 0.8226 - precision: 0.7417 - recall: 0.0787 - auc: 0.8189 - prc: 0.5343 - val_loss: 0.3687 - val_accuracy: 0.8188 - val_precision: 0.8571 - val_recall: 0.0174 - val_auc: 0.8532 - val_prc: 0.6050\n",
            "Epoch 3/5\n",
            "239/239 [==============================] - 2085s 9s/step - loss: 0.3866 - accuracy: 0.8213 - precision: 0.7442 - recall: 0.0674 - auc: 0.8204 - prc: 0.5279 - val_loss: 0.3687 - val_accuracy: 0.8188 - val_precision: 0.8571 - val_recall: 0.0174 - val_auc: 0.8532 - val_prc: 0.6050\n",
            "Epoch 4/5\n",
            "239/239 [==============================] - 2051s 9s/step - loss: 0.3875 - accuracy: 0.8199 - precision: 0.6884 - recall: 0.0667 - auc: 0.8197 - prc: 0.5231 - val_loss: 0.3687 - val_accuracy: 0.8188 - val_precision: 0.8571 - val_recall: 0.0174 - val_auc: 0.8532 - val_prc: 0.6050\n",
            "Epoch 5/5\n",
            "239/239 [==============================] - 2050s 9s/step - loss: 0.3884 - accuracy: 0.8225 - precision: 0.7368 - recall: 0.0787 - auc: 0.8156 - prc: 0.5263 - val_loss: 0.3687 - val_accuracy: 0.8188 - val_precision: 0.8571 - val_recall: 0.0174 - val_auc: 0.8532 - val_prc: 0.6050\n"
          ]
        }
      ]
    },
    {
      "cell_type": "code",
      "source": [
        "#accessing model performance\n",
        "\n",
        "model_results = classifier_model.evaluate(X_test.values,y_test,batch_size=128,verbose=0)\n",
        "\n",
        "for name, value in zip(classifier_model.metrics_names, model_results):\n",
        "  print(name, \": \", value)"
      ],
      "metadata": {
        "colab": {
          "base_uri": "https://localhost:8080/"
        },
        "id": "OFBNQM6mZC6t",
        "outputId": "916b2c3d-8682-427c-8199-05602b981d46"
      },
      "execution_count": null,
      "outputs": [
        {
          "output_type": "stream",
          "name": "stdout",
          "text": [
            "loss :  0.3686690330505371\n",
            "accuracy :  0.8188115954399109\n",
            "precision :  0.8571428656578064\n",
            "recall :  0.017391303554177284\n",
            "auc :  0.8531883955001831\n",
            "prc :  0.60496586561203\n"
          ]
        }
      ]
    },
    {
      "cell_type": "markdown",
      "metadata": {
        "id": "n4F5rd_FrYmW"
      },
      "source": [
        "From above classification reports and metrices, we can see precision, recall, and F1- score for class 1 and class 0 and accuracy, auc, and pr auc score for the respective models . Since we are doing sentiment analysis of tweets, we would most likely want to focus on real disaster tweets, which in our case is classified as 1. However, we also want to make sure that we always send real disaster alerts i.e. also for class 0. Therefore, as explained in the introductory part of the model, we will focus on the model that has higher accuracy.  <br><br>\n",
        "Among all the above models above, **Support Vector Machine (SVM)** has the highest accuracy and auc score. Therefore, we will be using SVM model for our project as it best fits the purpose of our project. SVM model has accuracy of 0.89 and ROC AUC score of 0.90 which is really good and explains that the model was able to classify the disaster tweets very well. Logistic Regression model has second best accuracy score but does poorly in precision, recall, and PR AUC scores. The LSTM models are also excellent and has higher accuracy than rest of other models. <br><br>For class 1, the recall score is 0.46 which states that the model correctly predicted 46% of all negative reviews as actually negative. Similarly, the precision of 0.90 states that the model classified negative reviews correctly 90% of times. Our precision of 0.90 is excellent.F1-score is the weighted average of precision and recall. We have F1-score of 0.61 and PR AUC score is 0.54 which states that we need to optimize threshold value to improve model performace. For class 0, we have precision of 0.89, recall of 0.99, and f1-score of 0.94 which is excellent and explains the model's ability to pick up fake disaster tweets. <br><br> **In conclusion, Support Vector Machine (SVM) is the best performing model.**"
      ]
    },
    {
      "cell_type": "markdown",
      "source": [
        "## 4. Model Prediction Using Synthetic Records (GPT-2)"
      ],
      "metadata": {
        "id": "y75TNzSMoroc"
      }
    },
    {
      "cell_type": "code",
      "source": [
        "#installing prerequisites\n",
        "!pip install transformers"
      ],
      "metadata": {
        "colab": {
          "base_uri": "https://localhost:8080/"
        },
        "id": "8ROLQiHHKCs7",
        "outputId": "75b7b88b-3bfe-4b66-b98d-c91566de5e52"
      },
      "execution_count": null,
      "outputs": [
        {
          "output_type": "stream",
          "name": "stdout",
          "text": [
            "Collecting transformers\n",
            "  Downloading transformers-4.14.1-py3-none-any.whl (3.4 MB)\n",
            "\u001b[K     |████████████████████████████████| 3.4 MB 5.6 MB/s \n",
            "\u001b[?25hRequirement already satisfied: tqdm>=4.27 in /usr/local/lib/python3.7/dist-packages (from transformers) (4.62.3)\n",
            "Requirement already satisfied: pyyaml>=5.1 in /usr/local/lib/python3.7/dist-packages (from transformers) (6.0)\n",
            "Collecting tokenizers<0.11,>=0.10.1\n",
            "  Downloading tokenizers-0.10.3-cp37-cp37m-manylinux_2_5_x86_64.manylinux1_x86_64.manylinux_2_12_x86_64.manylinux2010_x86_64.whl (3.3 MB)\n",
            "\u001b[K     |████████████████████████████████| 3.3 MB 35.4 MB/s \n",
            "\u001b[?25hRequirement already satisfied: requests in /usr/local/lib/python3.7/dist-packages (from transformers) (2.23.0)\n",
            "Requirement already satisfied: packaging>=20.0 in /usr/local/lib/python3.7/dist-packages (from transformers) (21.3)\n",
            "Requirement already satisfied: regex!=2019.12.17 in /usr/local/lib/python3.7/dist-packages (from transformers) (2019.12.20)\n",
            "Requirement already satisfied: numpy>=1.17 in /usr/local/lib/python3.7/dist-packages (from transformers) (1.19.5)\n",
            "Requirement already satisfied: importlib-metadata in /usr/local/lib/python3.7/dist-packages (from transformers) (4.8.2)\n",
            "Requirement already satisfied: filelock in /usr/local/lib/python3.7/dist-packages (from transformers) (3.4.0)\n",
            "Collecting huggingface-hub<1.0,>=0.1.0\n",
            "  Downloading huggingface_hub-0.2.1-py3-none-any.whl (61 kB)\n",
            "\u001b[K     |████████████████████████████████| 61 kB 451 kB/s \n",
            "\u001b[?25hCollecting sacremoses\n",
            "  Downloading sacremoses-0.0.46-py3-none-any.whl (895 kB)\n",
            "\u001b[K     |████████████████████████████████| 895 kB 43.2 MB/s \n",
            "\u001b[?25hRequirement already satisfied: typing-extensions>=3.7.4.3 in /usr/local/lib/python3.7/dist-packages (from huggingface-hub<1.0,>=0.1.0->transformers) (3.10.0.2)\n",
            "Requirement already satisfied: pyparsing!=3.0.5,>=2.0.2 in /usr/local/lib/python3.7/dist-packages (from packaging>=20.0->transformers) (3.0.6)\n",
            "Requirement already satisfied: zipp>=0.5 in /usr/local/lib/python3.7/dist-packages (from importlib-metadata->transformers) (3.6.0)\n",
            "Requirement already satisfied: certifi>=2017.4.17 in /usr/local/lib/python3.7/dist-packages (from requests->transformers) (2021.10.8)\n",
            "Requirement already satisfied: urllib3!=1.25.0,!=1.25.1,<1.26,>=1.21.1 in /usr/local/lib/python3.7/dist-packages (from requests->transformers) (1.24.3)\n",
            "Requirement already satisfied: chardet<4,>=3.0.2 in /usr/local/lib/python3.7/dist-packages (from requests->transformers) (3.0.4)\n",
            "Requirement already satisfied: idna<3,>=2.5 in /usr/local/lib/python3.7/dist-packages (from requests->transformers) (2.10)\n",
            "Requirement already satisfied: six in /usr/local/lib/python3.7/dist-packages (from sacremoses->transformers) (1.15.0)\n",
            "Requirement already satisfied: click in /usr/local/lib/python3.7/dist-packages (from sacremoses->transformers) (7.1.2)\n",
            "Requirement already satisfied: joblib in /usr/local/lib/python3.7/dist-packages (from sacremoses->transformers) (1.1.0)\n",
            "Installing collected packages: tokenizers, sacremoses, huggingface-hub, transformers\n",
            "Successfully installed huggingface-hub-0.2.1 sacremoses-0.0.46 tokenizers-0.10.3 transformers-4.14.1\n"
          ]
        }
      ]
    },
    {
      "cell_type": "code",
      "source": [
        "#initiating a text generator\n",
        "from transformers import pipeline, set_seed\n",
        "\n",
        "set_seed(101)\n",
        "generator = pipeline('text-generation', model='gpt2-large')"
      ],
      "metadata": {
        "colab": {
          "base_uri": "https://localhost:8080/",
          "height": 177,
          "referenced_widgets": [
            "8a27d53ab3ec49ce91663ad207ad0330",
            "f4a1ca007e91427ba4b4302e18a16cd3",
            "44f12625a5864344a66f203439504744",
            "15cf30f192f9486cb351f478422b7e74",
            "3389d26d256b471e8eccb6ffcaff80fe",
            "ea94bbd669f04a348e086cbc8cf97246",
            "59a787b344524f14a066cecd9c34a1d0",
            "ce91aa7c57dd49abbf2e46b9961f0e5b",
            "e8c24d1690434337a5ff5e1d4e7b70a3",
            "07322933a7d0429c99e1ecc68946f694",
            "ad98fa8169704b20b3735323c0d24996",
            "4cf2ffd053d649f8848665ca67b12c1f",
            "c22010be9e27497083b7c6f0f733fdfb",
            "8f9fcda5b8e04399bbe222a2aded32bb",
            "379f223393274983a5be1d346a770321",
            "2ffb3a2906b843d3851f3c5a5f00ea9f",
            "4841a459a5504f7cb415846d8e40c0fd",
            "569984dd827e4a7197ba05cf61d58de9",
            "558672ed8574416a9fa2bbaa650ec160",
            "3ca486509367412f9b3b5cd0a007b134",
            "e2d91c3b0ff34aab80fa9096630c80ee",
            "2162bb2d65774e198aeb5e0d6642796a",
            "524ad1dfee144c1292aefa5c3481e3d1",
            "2ad6602c92ee4125ba2b187399ed7f66",
            "2f595d80727d4f538a7a779ec0d42f4a",
            "32e5a7af6688407b88bb417a3ca9cbda",
            "8c96855dfd7e4c2da3786a8404a8bafe",
            "d198953f33ac42bdbb19af08dfe552f1",
            "c302c30c344a4e99a6a5ea3e364fb1c6",
            "25eb4075be8840f29f30070623cdd9a2",
            "9c943cc7ad5c4c59ba623799d96c8b32",
            "f72cd2e822bd43c3bfa0e3d87f3485b1",
            "d2b18fa724ad48258df6a03202b7902c",
            "31fd28882eb14bc6b528df4c18c93153",
            "8141637051aa4125b8b8743964305e45",
            "212076a345394b22937ab1f246f52dbc",
            "84907a4039bf4288b5f1e405d7709030",
            "1143b9b284134350b787aa032d1f347f",
            "34b244dbf7ef43c5a1bf0ff7fc23d527",
            "20030f0d6023420ea6e98a3e607c93c3",
            "e35d876696b64bbfaabad44d270ac821",
            "10557fe0ffac487688b0c65b6a93b073",
            "fc926e5952164edbbf72898140ceef84",
            "de96bd7159cd488d88cc8286f98f148c",
            "a7bd652522b045c6b28c09d835e9b0c2",
            "bcb41e24debe46b69685098d4b1cae90",
            "e352d21ca8c2485b8339bfcd78a19e6d",
            "ee9fe9eb870c4d4195ceb3610c587c27",
            "af50355a736d4141afad15e424c860cb",
            "8241fad9b064415380f0d7d95b9f5ec9",
            "01dce1dce0ea485c81c7048e8c899dc8",
            "d8d84ab920d14fab90ff02e46a8e7088",
            "9767c0ad79b04519ae0a39f8cb5ad97a",
            "abf654cfdde84ef19808a154faefa4ad",
            "662784e90ccc469fa010f4105fcdcf54"
          ]
        },
        "id": "i3BEU4BOK03b",
        "outputId": "7c935e2b-ed44-48b1-8fdb-764015586b47"
      },
      "execution_count": null,
      "outputs": [
        {
          "output_type": "display_data",
          "data": {
            "application/vnd.jupyter.widget-view+json": {
              "model_id": "8a27d53ab3ec49ce91663ad207ad0330",
              "version_minor": 0,
              "version_major": 2
            },
            "text/plain": [
              "Downloading:   0%|          | 0.00/666 [00:00<?, ?B/s]"
            ]
          },
          "metadata": {}
        },
        {
          "output_type": "display_data",
          "data": {
            "application/vnd.jupyter.widget-view+json": {
              "model_id": "4cf2ffd053d649f8848665ca67b12c1f",
              "version_minor": 0,
              "version_major": 2
            },
            "text/plain": [
              "Downloading:   0%|          | 0.00/3.02G [00:00<?, ?B/s]"
            ]
          },
          "metadata": {}
        },
        {
          "output_type": "display_data",
          "data": {
            "application/vnd.jupyter.widget-view+json": {
              "model_id": "524ad1dfee144c1292aefa5c3481e3d1",
              "version_minor": 0,
              "version_major": 2
            },
            "text/plain": [
              "Downloading:   0%|          | 0.00/0.99M [00:01<?, ?B/s]"
            ]
          },
          "metadata": {}
        },
        {
          "output_type": "display_data",
          "data": {
            "application/vnd.jupyter.widget-view+json": {
              "model_id": "31fd28882eb14bc6b528df4c18c93153",
              "version_minor": 0,
              "version_major": 2
            },
            "text/plain": [
              "Downloading:   0%|          | 0.00/446k [00:00<?, ?B/s]"
            ]
          },
          "metadata": {}
        },
        {
          "output_type": "display_data",
          "data": {
            "application/vnd.jupyter.widget-view+json": {
              "model_id": "a7bd652522b045c6b28c09d835e9b0c2",
              "version_minor": 0,
              "version_major": 2
            },
            "text/plain": [
              "Downloading:   0%|          | 0.00/1.29M [00:00<?, ?B/s]"
            ]
          },
          "metadata": {}
        }
      ]
    },
    {
      "cell_type": "code",
      "source": [
        "#generating synthetic records\n",
        "input_txt = 'car crash'\n",
        "generated_txt = generator(input_txt,max_length = 30, num_return_sequences=5)\n",
        "print(generated_txt)"
      ],
      "metadata": {
        "colab": {
          "base_uri": "https://localhost:8080/"
        },
        "id": "nwgZkUpcMaEY",
        "outputId": "11c038ce-3e8c-4457-cbde-eb83c2433dcd"
      },
      "execution_count": null,
      "outputs": [
        {
          "output_type": "stream",
          "name": "stderr",
          "text": [
            "Setting `pad_token_id` to `eos_token_id`:50256 for open-end generation.\n"
          ]
        },
        {
          "output_type": "stream",
          "name": "stdout",
          "text": [
            "[{'generated_text': 'car crash; the driver, identified by the police as \"James Michael Miller,\" 23, died in the crash at 11:30 a.m.'}, {'generated_text': 'car crash near the city.\\n\\nIn the fall after the shooting, he told the woman and her two children that if they ever had a similar'}, {'generated_text': \"car crash outside a bar in Sydney: 'The bus came careering down the street so fast I thought it would go into the water'\\n\\n\"}, {'generated_text': 'car crash involving the crash-prone Pontiac Grand Am, a vehicle that will remain in the back of the parking lot for 20 years.\\n\\n'}, {'generated_text': 'car crash into the rear of the other car. Both were pronounced dead at the scene. Police say the driver escaped with minor injuries.'}]\n"
          ]
        }
      ]
    },
    {
      "cell_type": "code",
      "source": [
        "#taking only values from generated_txt and appending them to new list\n",
        "new_testing_list = []\n",
        "index =0\n",
        "for index in range(0,len(generated_txt)):\n",
        "  new_testing_list.append(' '.join(list(generated_txt[index].values())).lower())\n",
        "  index = index + 1\n",
        "\n",
        "new_testing_list"
      ],
      "metadata": {
        "colab": {
          "base_uri": "https://localhost:8080/"
        },
        "id": "fgiXnvWUNEJJ",
        "outputId": "66de7578-919f-4c28-9bbf-c8b5ab26b072"
      },
      "execution_count": null,
      "outputs": [
        {
          "output_type": "execute_result",
          "data": {
            "text/plain": [
              "['car crash; the driver, identified by the police as \"james michael miller,\" 23, died in the crash at 11:30 a.m.',\n",
              " 'car crash near the city.\\n\\nin the fall after the shooting, he told the woman and her two children that if they ever had a similar',\n",
              " \"car crash outside a bar in sydney: 'the bus came careering down the street so fast i thought it would go into the water'\\n\\n\",\n",
              " 'car crash involving the crash-prone pontiac grand am, a vehicle that will remain in the back of the parking lot for 20 years.\\n\\n',\n",
              " 'car crash into the rear of the other car. both were pronounced dead at the scene. police say the driver escaped with minor injuries.']"
            ]
          },
          "metadata": {},
          "execution_count": 64
        }
      ]
    },
    {
      "cell_type": "code",
      "source": [
        "#Accessing model predicting using above synthetic records list using best model\n",
        "clf_pipe_syn_pred = Pipeline([\n",
        "                       ('vect',CountVectorizer(stop_words = {'english'})),\n",
        "                       ('tfidf',TfidfTransformer()),\n",
        "                       ('Support Vector Machine',SVC(probability=True)),\n",
        "])\n",
        "\n",
        "\n",
        "#fitting training dataset into new pipeline\n",
        "clf_pipe_syn_pred.fit(X_train,y_train)\n",
        "\n",
        "#supplying synthetic records to evaluate model performance\n",
        "syn_pred = clf_pipe_syn_pred.predict(new_testing_list)"
      ],
      "metadata": {
        "id": "t2ajXK9TNsLK"
      },
      "execution_count": null,
      "outputs": []
    },
    {
      "cell_type": "code",
      "source": [
        "#printing synthetic records prediction performance\n",
        "print(syn_pred)"
      ],
      "metadata": {
        "colab": {
          "base_uri": "https://localhost:8080/"
        },
        "id": "YZSl5tJgF3b5",
        "outputId": "6e5c605b-58f0-41bf-f93c-c4e49e7ce1c7"
      },
      "execution_count": null,
      "outputs": [
        {
          "output_type": "stream",
          "name": "stdout",
          "text": [
            "[1 0 0 0 1]\n"
          ]
        }
      ]
    },
    {
      "cell_type": "markdown",
      "source": [
        "We can see that our model classified the first and the last record as disaster tweet ;and, second, third, and fourth record was not classified as a disaster tweet. If we look at the records, it looks like all of them were relating to car crash but the first and the fourth record looks more like the news than an emergency tweet since it states after-the-fact details. <br><br>\n",
        "This does display some the limitation of the model to use in production. We can see that if there are some after-the-fact news details then our model may still classify it as an emergency tweet and send out alerts to its users, acting more like a news channel rather than emergency notifier platform. "
      ],
      "metadata": {
        "id": "p7DJHODiGZPx"
      }
    },
    {
      "cell_type": "markdown",
      "source": [
        "## 5. Ethical Implications of Productizing the Model "
      ],
      "metadata": {
        "id": "nzL5oqmpyoOk"
      }
    },
    {
      "cell_type": "markdown",
      "source": [
        "There are various ethical implications when we productize the AI models. This model also has some ethical implications. This model is dependent of twitter tweets. While we can see above that there are some limitations to this model, all the alters that are flagged by model as disaster tweets may not always be true. The model may some tweets that are not disaster related as disaster and may send out alerts to  the users. This may make model less ideal and some poeple may not take necessary actions during real disaster events things they are fake alerts. For example, some people may tweet long time after the disaster occured but if the model picks up as false positive, it would send wrong alerts to its users. <br><br>\n",
        "As the analyzes the social media tweets/post from people, there may always be privacy issues. Some people may not intend to share that information to all users, specially when they are false positives. However, the model will always analyze user's posts and sentiments and may upbring the concerns of their posts and privacy issues. <br> <br>\n",
        "There may also be some unintended ethical issues of the model being productized. As we are all aware, not all people have same good motive of helping other. This may bring some unintended issues as some people may take advantage of disasters happening and may work for their own personal gain rather than helping people in need.<br><br>\n",
        "Apart everything, instantenous alerts though posts may create panic and chaos among people and it may lead to even severe consequences physically, mentally, and financially. For example, getting alert of shooting in a nearby location may severly impact people's movement in the surrounding area, naking the situation even worse. While there are all these ethical challenges, we should weight all risk before productizing the model."
      ],
      "metadata": {
        "id": "KWEOc9CL5Sdc"
      }
    }
  ]
}